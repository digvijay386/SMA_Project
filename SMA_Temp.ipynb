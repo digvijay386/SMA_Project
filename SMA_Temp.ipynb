{
  "nbformat": 4,
  "nbformat_minor": 0,
  "metadata": {
    "colab": {
      "name": "SMA_Temp",
      "provenance": []
    },
    "kernelspec": {
      "name": "python3",
      "display_name": "Python 3"
    }
  },
  "cells": [
    {
      "cell_type": "code",
      "metadata": {
        "id": "aDHx3cYQs-vP"
      },
      "source": [
        "# this cell basically imports all the important libraries and stuff\n",
        "#importing the neccesary libraries\n",
        "from math import sqrt,log2\n",
        "import numpy as np\n",
        "import random\n",
        "import collections   \n",
        "from sortedcontainers import SortedDict\n"
      ],
      "execution_count": null,
      "outputs": []
    },
    {
      "cell_type": "code",
      "metadata": {
        "id": "Kb90tzlvEbnU"
      },
      "source": [
        "# basically initialises the no of users and servers\n",
        "NO_OF_USERS = 100\n",
        "NO_OF_BROADCAST_SERVERS = 10\n",
        "BW = 10 #bandwidth \n",
        "alpha = 2.5# txf\n",
        "NOISE = 0.0005\n"
      ],
      "execution_count": null,
      "outputs": []
    },
    {
      "cell_type": "code",
      "metadata": {
        "id": "IVfzgeMuEd9Y"
      },
      "source": [
        "# both classes defined, might need to twerk the definitions a bit\n",
        "class User:\n",
        "    def __init__(self,uID,loc):\n",
        "        self.preference_list =[]\n",
        "        self.uID = uID\n",
        "        self.X = loc[0]\n",
        "        self.Y = loc[1]\n",
        "        self.target = None\n",
        "class BS :\n",
        "    def __init__(self,bID,loc):\n",
        "        self.preference_list = []\n",
        "        self.bID = bID\n",
        "        self.X = loc[0]\n",
        "        self.Y = loc[1]\n",
        "        self.associatedUsers = set()  #use update to add elements to set else use add for element\n"
      ],
      "execution_count": null,
      "outputs": []
    },
    {
      "cell_type": "code",
      "metadata": {
        "id": "ts9DE0ccEgMi"
      },
      "source": [
        "#this generates 110 x and y co ordinates and hence the first 100 will be taken as users\n",
        "# the next 10 as routers\n",
        "\n",
        "random.seed(1)\n",
        "x_coord = random.sample(range(1,500),110)\n",
        "random.seed(2)\n",
        "y_coord = random.sample(range(1,500),110)\n",
        "\n",
        "Users = [User(i,(x_coord[i],y_coord[i])) for i in range(100)]\n",
        "BSs = [BS(i-99,(x_coord[i],y_coord[i])) for i in range(100,110)]\n",
        "\n",
        "# the BS id s needed to be twerked around a bit\n",
        "# BSs = [BS(i+100,(x_coord[i],y_coord[i])) for i in range(100,110)]\n",
        "\n",
        "\n",
        "#print(x_coord,\"\\n\",y_coord)"
      ],
      "execution_count": null,
      "outputs": []
    },
    {
      "cell_type": "code",
      "metadata": {
        "id": "3H4kpC7NEiaU"
      },
      "source": [
        "# this is the distance matrix which has the distance between any random user and router\n",
        "# the routers are being referred to as BS\n",
        "\n",
        "distance_Mat =[sqrt((Users[j].X -BSs[i].X )**2 + (Users[j].Y -BSs[i].Y )**2) for i in range(0,10) for j in range (0,100)]\n",
        "distance_Mat = (np.array(distance_Mat)).reshape(10,100)\n"
      ],
      "execution_count": null,
      "outputs": []
    },
    {
      "cell_type": "code",
      "metadata": {
        "id": "9fVNiVBfEk-c"
      },
      "source": [
        "def preflistBuilderforUsers(n:int):   #n is no of users  in BS\n",
        "    rx = alpha/(distance_Mat**2)\n",
        "    interactions= np.zeros((10,100))\n",
        "    for i in range(10):\n",
        "        for j in range(100):\n",
        "            interactions[i][j] = np.sum([rx[p][j]for p in range(10) if p!=i])\n",
        "       \n",
        "    for j in range(100):\n",
        "        pref_dict =SortedDict()\n",
        "        pref_list =[] \n",
        "        for i in range(10):\n",
        "            a = (BW/n)*log2(1+ (rx[i][j]/(NOISE + interactions[i][j])))\n",
        "            pref_dict[a]=i+1+100\n",
        "            \n",
        "        for key,value in pref_dict.items():\n",
        "            pref_list.append(value)\n",
        "        pref_list.reverse()\n",
        "        Users[j].preference_list = pref_list"
      ],
      "execution_count": null,
      "outputs": []
    },
    {
      "cell_type": "code",
      "metadata": {
        "id": "98Ky-A5GEnNb"
      },
      "source": [
        "\n",
        "def preflistBuilderforBS():\n",
        "    for i in range(10):\n",
        "        pref_dict =  SortedDict()              #collections.OrderedDict()\n",
        "        pref_list =[] \n",
        "        for j in range(100):\n",
        "            a = distance_Mat[i][j]\n",
        "            pref_dict[a] = j+1\n",
        "        for key,value in pref_dict.items():\n",
        "            pref_list.append(value)\n",
        "        BSs[i].preference_list = pref_list\n",
        "        "
      ],
      "execution_count": null,
      "outputs": []
    },
    {
      "cell_type": "code",
      "metadata": {
        "colab": {
          "base_uri": "https://localhost:8080/"
        },
        "id": "DeHmixfWEpXI",
        "outputId": "35b185b5-40c3-4258-d11b-a23b1bab9ec3"
      },
      "source": [
        "import random\n",
        "# n1=25\n",
        "# n2=5\n",
        "# r=5\n",
        "\n",
        "n1=100\n",
        "n2 = 10\n",
        "r = 10\n",
        "list1=[]\n",
        "list2=[]\n",
        "\n",
        "preflistBuilderforUsers(r)\n",
        "preflistBuilderforBS()\n",
        "\n",
        "for i in range(n1):\n",
        "  list1.append(Users[i].preference_list)\n",
        "for i in range(n2):\n",
        "  list2.append(BSs[i].preference_list)\n",
        "random.seed(1)\n",
        "# for i in range(n1):\n",
        "#   list1.append(random.sample(range(101,101+n2),n2))\n",
        "# for i in range(n2):\n",
        "#   list2.append(random.sample(range(1,1+n1),n1))\n",
        "\n",
        "\n",
        "\n",
        "router_start=101\n",
        "user_start=1\n",
        "\n",
        "print(list1)\n",
        "print(list2)\n",
        "\n"
      ],
      "execution_count": null,
      "outputs": [
        {
          "output_type": "stream",
          "text": [
            "[[105, 108, 104, 109, 101, 102, 110, 106, 107, 103], [108, 104, 102, 105, 101, 109, 107, 103, 110, 106], [104, 108, 102, 107, 105, 101, 109, 103, 110, 106], [104, 108, 102, 107, 101, 105, 109, 103, 110, 106], [103, 101, 109, 107, 102, 106, 110, 105, 104, 108], [106, 110, 109, 103, 101, 105, 102, 107, 108, 104], [106, 110, 103, 109, 101, 105, 102, 107, 108, 104], [110, 106, 109, 105, 101, 103, 102, 108, 107, 104], [105, 108, 104, 102, 101, 109, 107, 103, 110, 106], [103, 101, 109, 107, 102, 105, 110, 106, 104, 108], [105, 109, 102, 101, 108, 104, 107, 110, 103, 106], [105, 108, 102, 104, 101, 109, 107, 110, 103, 106], [102, 101, 107, 109, 108, 104, 105, 103, 110, 106], [105, 108, 104, 102, 109, 101, 107, 110, 103, 106], [103, 101, 107, 109, 102, 105, 104, 108, 110, 106], [110, 106, 109, 101, 103, 105, 102, 107, 108, 104], [105, 110, 109, 106, 101, 102, 108, 103, 104, 107], [103, 109, 101, 110, 106, 102, 105, 107, 108, 104], [105, 108, 110, 109, 101, 104, 102, 106, 107, 103], [103, 101, 107, 109, 102, 106, 110, 105, 104, 108], [107, 102, 101, 104, 109, 108, 103, 105, 110, 106], [105, 109, 101, 102, 108, 104, 110, 107, 103, 106], [103, 109, 106, 101, 110, 105, 102, 107, 108, 104], [101, 109, 103, 102, 107, 105, 108, 104, 110, 106], [102, 107, 101, 104, 108, 109, 105, 103, 110, 106], [103, 101, 107, 109, 102, 105, 104, 108, 110, 106], [105, 110, 109, 101, 106, 108, 102, 104, 107, 103], [102, 104, 108, 107, 101, 109, 105, 103, 110, 106], [105, 108, 104, 102, 109, 101, 107, 110, 103, 106], [105, 109, 110, 101, 106, 102, 103, 108, 107, 104], [103, 101, 109, 107, 102, 105, 104, 108, 110, 106], [107, 102, 101, 104, 103, 109, 108, 105, 110, 106], [110, 109, 105, 106, 101, 103, 102, 108, 107, 104], [101, 109, 102, 105, 103, 107, 108, 104, 110, 106], [110, 106, 109, 101, 105, 103, 102, 107, 108, 104], [104, 108, 107, 102, 101, 105, 109, 103, 110, 106], [105, 108, 104, 102, 109, 101, 107, 110, 103, 106], [105, 110, 109, 108, 101, 102, 106, 104, 107, 103], [106, 110, 109, 103, 101, 105, 102, 107, 108, 104], [110, 106, 105, 109, 101, 103, 102, 108, 107, 104], [101, 109, 102, 103, 107, 105, 108, 104, 110, 106], [109, 103, 101, 102, 105, 110, 107, 106, 108, 104], [110, 106, 105, 109, 101, 103, 102, 108, 107, 104], [107, 103, 102, 101, 109, 104, 108, 105, 110, 106], [105, 108, 104, 102, 109, 101, 107, 110, 103, 106], [102, 101, 109, 107, 103, 105, 108, 104, 110, 106], [106, 110, 109, 103, 101, 105, 102, 107, 108, 104], [109, 101, 105, 102, 110, 103, 108, 107, 104, 106], [103, 101, 109, 107, 102, 105, 110, 106, 104, 108], [103, 107, 101, 102, 109, 104, 108, 105, 110, 106], [103, 109, 101, 110, 106, 102, 105, 107, 108, 104], [106, 110, 103, 109, 101, 105, 102, 107, 108, 104], [104, 107, 108, 102, 101, 109, 105, 103, 110, 106], [109, 101, 103, 110, 105, 106, 102, 107, 108, 104], [103, 107, 101, 109, 102, 104, 105, 108, 110, 106], [103, 109, 101, 106, 110, 102, 107, 105, 108, 104], [105, 110, 109, 101, 106, 102, 103, 108, 104, 107], [105, 108, 104, 102, 109, 101, 107, 110, 103, 106], [105, 108, 104, 109, 102, 101, 110, 107, 106, 103], [101, 102, 109, 107, 103, 105, 108, 104, 110, 106], [105, 109, 101, 110, 102, 108, 106, 104, 103, 107], [104, 107, 108, 102, 101, 109, 105, 103, 110, 106], [103, 109, 101, 106, 110, 105, 102, 107, 108, 104], [109, 110, 101, 105, 106, 103, 102, 108, 107, 104], [107, 104, 102, 108, 101, 109, 105, 103, 110, 106], [109, 101, 105, 103, 110, 102, 106, 107, 108, 104], [104, 108, 102, 107, 105, 101, 109, 103, 110, 106], [101, 109, 102, 105, 103, 107, 108, 104, 110, 106], [102, 108, 104, 107, 105, 101, 109, 103, 110, 106], [105, 108, 109, 110, 101, 104, 102, 106, 107, 103], [105, 109, 101, 110, 108, 102, 104, 106, 107, 103], [102, 101, 109, 107, 105, 108, 104, 103, 110, 106], [103, 101, 109, 107, 102, 105, 104, 108, 110, 106], [110, 109, 101, 106, 105, 103, 102, 107, 108, 104], [105, 109, 110, 108, 101, 102, 104, 106, 107, 103], [103, 101, 109, 107, 102, 110, 105, 106, 104, 108], [105, 109, 101, 108, 102, 104, 110, 107, 103, 106], [107, 103, 102, 101, 109, 104, 108, 105, 110, 106], [102, 107, 104, 108, 101, 109, 105, 103, 110, 106], [105, 102, 108, 101, 109, 104, 107, 103, 110, 106], [107, 102, 103, 101, 109, 104, 108, 105, 110, 106], [105, 101, 109, 102, 108, 104, 107, 103, 110, 106], [101, 102, 109, 107, 103, 105, 108, 104, 110, 106], [110, 106, 109, 101, 103, 105, 102, 107, 108, 104], [109, 105, 101, 110, 106, 102, 103, 108, 107, 104], [110, 106, 109, 101, 103, 105, 102, 107, 108, 104], [101, 109, 102, 103, 105, 107, 108, 104, 110, 106], [109, 101, 105, 102, 103, 107, 110, 108, 104, 106], [108, 105, 104, 102, 101, 109, 107, 103, 110, 106], [105, 108, 104, 102, 109, 101, 107, 110, 103, 106], [108, 104, 102, 105, 101, 107, 109, 103, 110, 106], [105, 110, 106, 109, 101, 102, 108, 104, 103, 107], [109, 101, 105, 102, 103, 110, 107, 106, 108, 104], [105, 108, 109, 101, 102, 104, 110, 107, 106, 103], [103, 107, 101, 102, 109, 104, 105, 108, 110, 106], [105, 109, 101, 102, 110, 108, 103, 107, 104, 106], [105, 109, 101, 102, 108, 104, 107, 110, 103, 106], [102, 101, 109, 107, 105, 103, 108, 104, 110, 106], [105, 108, 109, 104, 101, 102, 110, 106, 107, 103], [109, 101, 105, 110, 103, 102, 106, 107, 108, 104]]\n",
            "[[68, 87, 34, 88, 93, 24, 41, 83, 60, 72, 98, 46, 48, 66, 96, 42, 82, 100, 54, 31, 13, 73, 26, 85, 22, 80, 51, 64, 25, 11, 97, 28, 74, 79, 18, 30, 69, 15, 21, 95, 57, 63, 33, 12, 86, 44, 81, 77, 23, 91, 56, 9, 49, 89, 2, 78, 61, 76, 10, 29, 14, 16, 32, 58, 84, 45, 4, 8, 94, 47, 50, 65, 17, 71, 5, 35, 7, 90, 37, 55, 40, 92, 36, 67, 3, 43, 75, 52, 62, 20, 59, 99, 53, 70, 1, 6, 27, 38, 19, 39], [13, 79, 25, 28, 72, 98, 69, 83, 46, 60, 21, 34, 82, 87, 68, 41, 91, 4, 80, 65, 2, 24, 88, 11, 9, 81, 26, 12, 89, 31, 32, 97, 48, 44, 93, 73, 96, 22, 36, 3, 67, 29, 95, 78, 62, 53, 15, 66, 42, 14, 77, 45, 100, 58, 54, 85, 90, 30, 51, 64, 37, 61, 49, 50, 94, 57, 10, 18, 76, 74, 33, 71, 63, 56, 55, 59, 86, 23, 99, 5, 17, 75, 16, 1, 70, 20, 84, 8, 92, 47, 38, 27, 35, 7, 19, 40, 43, 52, 6, 39], [49, 76, 10, 73, 15, 51, 56, 31, 42, 18, 5, 26, 95, 63, 24, 41, 23, 54, 50, 20, 55, 44, 87, 60, 34, 78, 93, 46, 83, 66, 81, 68, 88, 98, 72, 100, 21, 86, 74, 48, 25, 32, 96, 7, 64, 13, 85, 47, 82, 16, 84, 52, 79, 33, 30, 28, 57, 22, 69, 80, 11, 97, 8, 35, 65, 91, 12, 6, 77, 9, 4, 61, 2, 89, 40, 29, 39, 43, 17, 14, 36, 62, 53, 58, 45, 94, 3, 71, 67, 92, 90, 37, 75, 99, 59, 70, 27, 1, 38, 19], [4, 67, 3, 36, 91, 69, 2, 28, 79, 65, 62, 53, 89, 13, 9, 25, 12, 80, 29, 72, 11, 21, 82, 90, 98, 45, 14, 97, 83, 46, 58, 60, 22, 37, 68, 34, 32, 77, 87, 41, 48, 81, 88, 96, 24, 94, 44, 59, 26, 93, 31, 78, 73, 95, 71, 99, 61, 100, 66, 15, 85, 1, 30, 42, 75, 70, 57, 64, 54, 33, 50, 74, 51, 38, 17, 19, 49, 10, 18, 27, 76, 92, 55, 86, 63, 56, 23, 8, 16, 5, 84, 20, 40, 43, 35, 47, 7, 52, 6, 39], [22, 97, 77, 11, 80, 96, 82, 12, 48, 14, 61, 58, 94, 29, 9, 45, 89, 71, 30, 85, 88, 57, 37, 100, 91, 68, 2, 64, 93, 90, 69, 72, 13, 66, 87, 34, 33, 17, 75, 59, 99, 28, 98, 70, 79, 83, 92, 74, 1, 60, 24, 46, 41, 54, 38, 27, 25, 42, 19, 8, 86, 4, 21, 31, 16, 40, 43, 84, 73, 51, 26, 18, 35, 63, 67, 3, 65, 23, 47, 36, 81, 15, 95, 44, 56, 62, 32, 53, 78, 7, 49, 76, 10, 6, 52, 50, 5, 39, 55, 20], [6, 35, 47, 84, 16, 39, 7, 8, 52, 40, 86, 43, 74, 33, 64, 23, 63, 57, 54, 30, 85, 100, 18, 66, 17, 51, 56, 42, 93, 92, 96, 48, 61, 88, 24, 68, 22, 87, 34, 71, 41, 77, 49, 27, 82, 97, 76, 73, 31, 94, 10, 11, 75, 60, 5, 83, 72, 98, 46, 38, 80, 15, 26, 70, 58, 14, 12, 13, 99, 95, 45, 19, 29, 9, 1, 37, 59, 89, 69, 20, 25, 28, 79, 91, 44, 2, 50, 21, 81, 90, 78, 55, 32, 4, 65, 67, 3, 36, 62, 53], [21, 25, 32, 81, 65, 79, 44, 28, 46, 98, 83, 60, 78, 13, 72, 4, 26, 41, 95, 69, 62, 53, 31, 36, 73, 34, 87, 15, 24, 68, 3, 67, 91, 82, 50, 88, 2, 80, 93, 9, 11, 89, 42, 12, 48, 55, 10, 49, 97, 96, 76, 22, 29, 66, 51, 54, 100, 14, 77, 18, 45, 5, 56, 85, 20, 58, 90, 63, 64, 30, 74, 23, 37, 57, 61, 94, 33, 86, 71, 59, 16, 99, 84, 17, 75, 8, 47, 1, 7, 70, 92, 35, 38, 52, 40, 27, 43, 19, 6, 39], [2, 91, 69, 4, 89, 67, 9, 28, 3, 79, 12, 29, 80, 36, 13, 65, 11, 90, 45, 25, 14, 62, 82, 53, 97, 72, 58, 37, 98, 22, 77, 21, 83, 46, 60, 68, 34, 87, 48, 96, 94, 59, 88, 41, 32, 24, 93, 99, 71, 81, 61, 26, 44, 1, 31, 100, 75, 66, 85, 73, 30, 70, 78, 95, 57, 64, 42, 15, 54, 38, 33, 19, 17, 74, 27, 92, 51, 18, 50, 49, 86, 10, 76, 63, 8, 56, 23, 55, 16, 84, 40, 43, 35, 5, 47, 20, 7, 52, 6, 39], [88, 93, 68, 87, 34, 24, 66, 48, 96, 41, 100, 42, 72, 54, 83, 60, 98, 82, 46, 85, 64, 22, 13, 31, 74, 30, 73, 51, 80, 11, 97, 18, 26, 57, 33, 25, 63, 86, 28, 79, 69, 77, 15, 23, 12, 21, 95, 56, 61, 9, 91, 49, 16, 44, 89, 81, 29, 2, 84, 76, 14, 10, 8, 78, 58, 45, 47, 94, 17, 71, 35, 32, 7, 4, 50, 5, 37, 40, 90, 65, 92, 43, 75, 52, 55, 99, 59, 36, 67, 3, 70, 20, 6, 27, 62, 1, 53, 38, 39, 19], [35, 8, 40, 84, 16, 43, 86, 47, 33, 74, 6, 64, 57, 30, 85, 7, 39, 100, 17, 52, 66, 54, 23, 92, 63, 61, 18, 96, 93, 48, 51, 42, 88, 22, 56, 71, 68, 77, 27, 24, 87, 97, 34, 94, 82, 75, 11, 41, 38, 80, 70, 72, 58, 60, 83, 14, 98, 99, 31, 73, 46, 12, 49, 45, 19, 29, 1, 13, 76, 9, 37, 59, 26, 10, 89, 15, 69, 5, 91, 90, 28, 2, 95, 79, 25, 21, 44, 81, 78, 20, 50, 55, 4, 32, 65, 67, 3, 36, 62, 53]]\n"
          ],
          "name": "stdout"
        }
      ]
    },
    {
      "cell_type": "code",
      "metadata": {
        "id": "2L1NYT9xF6qe"
      },
      "source": [
        "user_free=[True for i in range(n1)]\n",
        "free_count=n1\n",
        "satisfaction_rate=[0 for i in range(n1)]\n",
        "\n",
        "bitrate_calculator=[-1 for i in range(n1)]"
      ],
      "execution_count": null,
      "outputs": []
    },
    {
      "cell_type": "code",
      "metadata": {
        "id": "yctjdFAsF9dk"
      },
      "source": [
        "def stable_2(list1,list2,server_patner,itrNo):\n",
        "  \n",
        "\n",
        "  server_free=[True for i in range(n2)]\n",
        "  \n",
        "  \n",
        "  for j in range((int)(n1/n2)):\n",
        "    for user__ in range(n1):\n",
        "      i=0\n",
        "      while (i < n2 and user_free[user__]):\n",
        "        server=list1[user__][i]\n",
        "        server_index=server-router_start\n",
        "\n",
        "        if (server_free[server_index]==True):\n",
        "          server_patner[server_index].append(user__+user_start)\n",
        "          user_free[user__]=False\n",
        "          server_free[server_index]=False\n",
        "          satisfaction_rate[user__]=(itrNo)*10+list1[user__].index(server)\n",
        "          break\n",
        "          #free_count-=1\n",
        "        else:\n",
        "          s=len(server_patner[server_index])\n",
        "          curr_patner=server_patner[server_index][s-1]\n",
        "\n",
        "          index_curr=list2[server_index].index(curr_patner)\n",
        "          index_user=list2[server_index].index(user__+user_start)\n",
        "\n",
        "          if (index_user < index_curr):\n",
        "            server_patner[server_index][s-1]=user__+user_start\n",
        "            user_free[user__]=False\n",
        "            user_free[curr_patner-user_start]=True\n",
        "            satisfaction_rate[user__]=(itrNo)*10+list1[user__].index(server)\n",
        "            break\n",
        "\n",
        "        i+=1\n",
        "    \n",
        "\n",
        "\n",
        "      \n",
        "  \n"
      ],
      "execution_count": null,
      "outputs": []
    },
    {
      "cell_type": "code",
      "metadata": {
        "id": "j917ZlYpFhkA"
      },
      "source": [
        "def stable_marriage(list1,list2,ratio):\n",
        "  server_patner=[]\n",
        "  for i in range(n2):\n",
        "    server_patner.append([])\n",
        "\n",
        "  for i in range(ratio):\n",
        "    stable_2(list1,list2,server_patner,i+1)  \n",
        "  return server_patner\n",
        "\n",
        "\n",
        "\n",
        "    \n",
        "\n"
      ],
      "execution_count": null,
      "outputs": []
    },
    {
      "cell_type": "code",
      "metadata": {
        "colab": {
          "base_uri": "https://localhost:8080/"
        },
        "id": "uAv3_jyVGVZ8",
        "outputId": "5549d030-bee6-43dd-e020-7217e97847cd"
      },
      "source": [
        "server_patner=stable_marriage(list1,list2,r)\n",
        "server_patner"
      ],
      "execution_count": null,
      "outputs": [
        {
          "output_type": "execute_result",
          "data": {
            "text/plain": [
              "[[68, 87, 34, 41, 83, 60, 54, 18, 94, 27],\n",
              " [13, 79, 28, 72, 98, 46, 26, 30, 71, 38],\n",
              " [49, 76, 10, 73, 15, 51, 56, 31, 5, 20],\n",
              " [4, 67, 3, 36, 62, 53, 90, 58, 59, 1],\n",
              " [22, 97, 77, 11, 80, 96, 82, 14, 61, 75],\n",
              " [6, 47, 84, 39, 7, 52, 74, 23, 17, 19],\n",
              " [21, 25, 32, 81, 65, 44, 78, 95, 50, 55],\n",
              " [2, 91, 69, 89, 9, 12, 29, 45, 37, 99],\n",
              " [88, 93, 24, 66, 48, 100, 42, 85, 63, 70],\n",
              " [35, 8, 40, 16, 43, 86, 33, 64, 57, 92]]"
            ]
          },
          "metadata": {
            "tags": []
          },
          "execution_count": 47
        }
      ]
    },
    {
      "cell_type": "code",
      "metadata": {
        "colab": {
          "base_uri": "https://localhost:8080/"
        },
        "id": "yxRgYmOI-iFk",
        "outputId": "a9d34236-5316-4360-b12d-64491f2777a0"
      },
      "source": [
        "print(satisfaction_rate)"
      ],
      "execution_count": null,
      "outputs": [
        {
          "output_type": "stream",
          "text": [
            "[102, 10, 30, 10, 90, 10, 50, 20, 51, 30, 40, 61, 10, 80, 50, 40, 93, 82, 107, 100, 10, 10, 82, 31, 21, 74, 103, 30, 71, 85, 80, 30, 70, 30, 10, 40, 91, 105, 40, 30, 40, 70, 50, 60, 81, 60, 20, 50, 10, 91, 60, 60, 60, 71, 101, 70, 91, 82, 92, 60, 90, 50, 91, 81, 50, 40, 20, 10, 31, 102, 95, 40, 40, 73, 100, 20, 30, 70, 20, 50, 40, 70, 50, 31, 80, 60, 20, 10, 40, 72, 20, 101, 20, 93, 81, 60, 20, 50, 101, 60]\n"
          ],
          "name": "stdout"
        }
      ]
    },
    {
      "cell_type": "code",
      "metadata": {
        "id": "R5N9JP5O-mFp"
      },
      "source": [
        ""
      ],
      "execution_count": null,
      "outputs": []
    },
    {
      "cell_type": "code",
      "metadata": {
        "id": "cbELuT5-HJnk"
      },
      "source": [
        "# final_answer_dict={}\n",
        "# for i in range(n1):\n",
        "#   final_answer_dict[i+user_start]=[]\n",
        "# for i in range(n1):\n",
        "#   final_answer_dict[i+user_start].append(bitrate_calculator[i])\n",
        "#   final_answer_dict[i+user_start].append(satisfaction_rate[i])\n",
        "#   temp=index_2d(server_patner,i+user_start)\n",
        "#   final_answer_dict[i+user_start].append(temp+router_start)\n",
        "\n"
      ],
      "execution_count": null,
      "outputs": []
    },
    {
      "cell_type": "code",
      "metadata": {
        "id": "ReJzmXa5dYDm"
      },
      "source": [
        "# from prettytable import PrettyTable as pt\n",
        "# t=pt(['User_ID','Bitrate_Received_For_Marrying','Satisafcation_Rate','Band-width_Server']) \n",
        "# for i in range(n1):\n",
        "#   list_temp=[]\n",
        "#   list_temp.append(i+user_start)\n",
        "#   list_temp.append(final_answer_dict[i+user_start][0])\n",
        "#   list_temp.append(final_answer_dict[i+user_start][1])\n",
        "#   list_temp.append(final_answer_dict[i+user_start][2])\n",
        "#   t.add_row(list_temp)\n",
        "#   list_temp.clear()\n",
        "\n",
        "# print(t)"
      ],
      "execution_count": null,
      "outputs": []
    },
    {
      "cell_type": "code",
      "metadata": {
        "id": "KMmLUnSIdjoa",
        "colab": {
          "base_uri": "https://localhost:8080/",
          "height": 279
        },
        "outputId": "1efc10c0-4d08-4166-b518-223ca804ee68"
      },
      "source": [
        "#\"https://stackoverflow.com/questions/24788200/calculate-the-cumulative-distribution-function-cdf-in-python\"\n",
        "import matplotlib.pyplot as plt\n",
        "import numpy as np\n",
        "data_sorted = np.sort(satisfaction_rate)\n",
        "\n",
        "\n",
        "#p = 1. * np.arange(len(data_sorted)) / (len(data_sorted) - 1)\n",
        "p=np.linspace(0, 1, len(data_sorted))\n",
        "# plot the sorted data:\n",
        "fig = plt.figure()\n",
        "plt.plot(data_sorted, p)\n",
        "plt.xticks(np.arange(min(data_sorted), max(data_sorted)+1, 10))\n",
        "plt.xlabel('satisfaction rate')\n",
        "plt.ylabel('% ')\n",
        "plt.show()\n",
        "# ax1 = fig.add_subplot(121)\n",
        "# ax1.plot(p, data_sorted)\n",
        "\n",
        "\n",
        "#ax2 = fig.add_subplot(121)\n",
        "\n",
        "# ax2.set_xlabel('')\n",
        "# ax2.set_ylabel('')"
      ],
      "execution_count": null,
      "outputs": [
        {
          "output_type": "display_data",
          "data": {
            "image/png": "[encoded data removed]",
            "text/plain": [
              "<Figure size 432x288 with 1 Axes>"
            ]
          },
          "metadata": {
            "tags": [],
            "needs_background": "light"
          }
        }
      ]
    },
    {
      "cell_type": "code",
      "metadata": {
        "id": "0iOUM6Dp_L1N"
      },
      "source": [
        ""
      ],
      "execution_count": null,
      "outputs": []
    }
  ]
}