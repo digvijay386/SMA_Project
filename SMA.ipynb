{
  "nbformat": 4,
  "nbformat_minor": 0,
  "metadata": {
    "colab": {
      "name": "SMA.ipynb",
      "provenance": []
    },
    "kernelspec": {
      "name": "python3",
      "display_name": "Python 3"
    }
  },
  "cells": [
    {
      "cell_type": "code",
      "metadata": {
        "id": "Tg0UE3LUnIT7"
      },
      "source": [
        "from math import sqrt,log2\n",
        "import numpy as np\n",
        "import random\n",
        "import collections   \n",
        "from sortedcontainers import SortedDict\n"
      ],
      "execution_count": null,
      "outputs": []
    },
    {
      "cell_type": "code",
      "metadata": {
        "id": "i8vAYD28nNMg"
      },
      "source": [
        "NO_OF_USERS = 100\n",
        "NO_OF_BROADCAST_SERVERS = 10\n",
        "BW = 10 #bandwidth \n",
        "alpha = 2.5# txf\n",
        "NOISE = 0.0005\n",
        "DISTANCE_THRES = 200"
      ],
      "execution_count": null,
      "outputs": []
    },
    {
      "cell_type": "code",
      "metadata": {
        "id": "6Sn-5Df0nPHv"
      },
      "source": [
        "#Defining User and Bandwidth-Server classes\n",
        "class User:\n",
        "    def __init__(self,uID,loc):\n",
        "        self.preference_list =[]\n",
        "        self.uID = uID\n",
        "        self.X = loc[0]\n",
        "        self.Y = loc[1]\n",
        "        self.target = None\n",
        "class BS :\n",
        "    def __init__(self,bID,loc):\n",
        "        self.preference_list = []\n",
        "        self.bID = bID\n",
        "        self.X = loc[0]\n",
        "        self.Y = loc[1]\n",
        "        self.associatedUsers = set() "
      ],
      "execution_count": null,
      "outputs": []
    },
    {
      "cell_type": "code",
      "metadata": {
        "id": "QrojjNSLnU9M"
      },
      "source": [
        "random.seed(1)\n",
        "x_coord = random.sample(range(1,500),NO_OF_USERS+NO_OF_BROADCAST_SERVERS)\n",
        "random.seed(2)\n",
        "y_coord = random.sample(range(1,500),NO_OF_USERS+NO_OF_BROADCAST_SERVERS)\n",
        "\n",
        "\n",
        "#the users have been id from 1 to 100\n",
        "#the BSs have been id-ed from 101 to 110\n",
        "Users = [User(i,(x_coord[i],y_coord[i])) for i in range(100)]\n",
        "BSs = [BS(i,(x_coord[i+100],y_coord[i+100])) for i in range(10)]"
      ],
      "execution_count": null,
      "outputs": []
    },
    {
      "cell_type": "code",
      "metadata": {
        "id": "EEDywGjznaLt"
      },
      "source": [
        "distance_Mat =[sqrt((Users[j].X -BSs[i].X )**2 + (Users[j].Y -BSs[i].Y )**2) for i in range(0,10) for j in range (0,100)]\n",
        "distance_Mat = (np.array(distance_Mat)).reshape(10,100)\n"
      ],
      "execution_count": null,
      "outputs": []
    },
    {
      "cell_type": "code",
      "metadata": {
        "id": "d7Fzp0VMndVL"
      },
      "source": [
        "\n",
        "def preflistBuilderforBSs():\n",
        "    for i in range(10):\n",
        "        pref_dict =  SortedDict()              #collections.OrderedDict()\n",
        "        pref_list =  [] \n",
        "        for j in range(100):\n",
        "            a = distance_Mat[i][j]\n",
        "            if a<= DISTANCE_THRES:\n",
        "                pref_dict[a] = j\n",
        "        for key,value in pref_dict.items():\n",
        "            pref_list.append(value)\n",
        "        BSs[i].preference_list = pref_list\n",
        "        "
      ],
      "execution_count": null,
      "outputs": []
    },
    {
      "cell_type": "code",
      "metadata": {
        "id": "hsjgChRVnfnz"
      },
      "source": [
        "rx = alpha/(distance_Mat**2)\n",
        "interactions= np.zeros((10,100))\n",
        "for i in range(10):\n",
        "    for j in range(100):\n",
        "        interactions[i][j] = np.sum([rx[p][j]for p in range(10) if p!=i])\n",
        "\n",
        "\n"
      ],
      "execution_count": null,
      "outputs": []
    },
    {
      "cell_type": "code",
      "metadata": {
        "id": "V_sXl1ZDb0en"
      },
      "source": [
        "def preflistBuilderforUsers(n:int):   #n is no of users  in BS   \n",
        "    for j in range(100):\n",
        "        pref_dict =SortedDict()\n",
        "        pref_list =[] \n",
        "        for i in range(10):\n",
        "            a = (BW/n)*log2(1+ (rx[i][j]/(NOISE + interactions[i][j])))\n",
        "            pref_dict[a]=i\n",
        "            \n",
        "        for key,value in pref_dict.items():\n",
        "            pref_list.append(value)\n",
        "        pref_list.reverse()\n",
        "        Users[j].preference_list = pref_list"
      ],
      "execution_count": null,
      "outputs": []
    },
    {
      "cell_type": "code",
      "metadata": {
        "id": "O79mnUgMnhyZ"
      },
      "source": [
        "listUsers=[]\n",
        "listBSs=[]\n",
        "r=NO_OF_USERS/NO_OF_BROADCAST_SERVERS\n",
        "preflistBuilderforUsers(r)\n",
        "preflistBuilderforBSs()\n",
        "\n",
        "for i in range(NO_OF_USERS):\n",
        "  listUsers.append(Users[i].preference_list)\n",
        "for i in range(NO_OF_BROADCAST_SERVERS):\n",
        "  listBSs.append(BSs[i].preference_list)\n",
        "\n",
        "\n",
        "\n",
        "\n"
      ],
      "execution_count": null,
      "outputs": []
    },
    {
      "cell_type": "code",
      "metadata": {
        "colab": {
          "base_uri": "https://localhost:8080/"
        },
        "id": "bji_jMs7Kr7t",
        "outputId": "dc4c6988-7d19-495a-e56d-2d847d970698"
      },
      "source": [
        "# for i in range(NO_OF_BROADCAST_SERVERS):\n",
        "#     print(listBSs[i])\n",
        "#     print()\n",
        "\n",
        "for i in range(40):\n",
        "    print(listUsers[i])\n",
        "    "
      ],
      "execution_count": null,
      "outputs": [
        {
          "output_type": "stream",
          "text": [
            "[4, 7, 3, 8, 0, 1, 9, 5, 6, 2]\n",
            "[7, 3, 1, 4, 0, 8, 6, 2, 9, 5]\n",
            "[3, 7, 1, 6, 4, 0, 8, 2, 9, 5]\n",
            "[3, 7, 1, 6, 0, 4, 8, 2, 9, 5]\n",
            "[2, 0, 8, 6, 1, 5, 9, 4, 3, 7]\n",
            "[5, 9, 8, 2, 0, 4, 1, 6, 7, 3]\n",
            "[5, 9, 2, 8, 0, 4, 1, 6, 7, 3]\n",
            "[9, 5, 8, 4, 0, 2, 1, 7, 6, 3]\n",
            "[4, 7, 3, 1, 0, 8, 6, 2, 9, 5]\n",
            "[2, 0, 8, 6, 1, 4, 9, 5, 3, 7]\n",
            "[4, 8, 1, 0, 7, 3, 6, 9, 2, 5]\n",
            "[4, 7, 1, 3, 0, 8, 6, 9, 2, 5]\n",
            "[1, 0, 6, 8, 7, 3, 4, 2, 9, 5]\n",
            "[4, 7, 3, 1, 8, 0, 6, 9, 2, 5]\n",
            "[2, 0, 6, 8, 1, 4, 3, 7, 9, 5]\n",
            "[9, 5, 8, 0, 2, 4, 1, 6, 7, 3]\n",
            "[4, 9, 8, 5, 0, 1, 7, 2, 3, 6]\n",
            "[2, 8, 0, 9, 5, 1, 4, 6, 7, 3]\n",
            "[4, 7, 9, 8, 0, 3, 1, 5, 6, 2]\n",
            "[2, 0, 6, 8, 1, 5, 9, 4, 3, 7]\n",
            "[6, 1, 0, 3, 8, 7, 2, 4, 9, 5]\n",
            "[4, 8, 0, 1, 7, 3, 9, 6, 2, 5]\n",
            "[2, 8, 5, 0, 9, 4, 1, 6, 7, 3]\n",
            "[0, 8, 2, 1, 6, 4, 7, 3, 9, 5]\n",
            "[1, 6, 0, 3, 7, 8, 4, 2, 9, 5]\n",
            "[2, 0, 6, 8, 1, 4, 3, 7, 9, 5]\n",
            "[4, 9, 8, 0, 5, 7, 1, 3, 6, 2]\n",
            "[1, 3, 7, 6, 0, 8, 4, 2, 9, 5]\n",
            "[4, 7, 3, 1, 8, 0, 6, 9, 2, 5]\n",
            "[4, 8, 9, 0, 5, 1, 2, 7, 6, 3]\n",
            "[2, 0, 8, 6, 1, 4, 3, 7, 9, 5]\n",
            "[6, 1, 0, 3, 2, 8, 7, 4, 9, 5]\n",
            "[9, 8, 4, 5, 0, 2, 1, 7, 6, 3]\n",
            "[0, 8, 1, 4, 2, 6, 7, 3, 9, 5]\n",
            "[9, 5, 8, 0, 4, 2, 1, 6, 7, 3]\n",
            "[3, 7, 6, 1, 0, 4, 8, 2, 9, 5]\n",
            "[4, 7, 3, 1, 8, 0, 6, 9, 2, 5]\n",
            "[4, 9, 8, 7, 0, 1, 5, 3, 6, 2]\n",
            "[5, 9, 8, 2, 0, 4, 1, 6, 7, 3]\n",
            "[9, 5, 4, 8, 0, 2, 1, 7, 6, 3]\n"
          ],
          "name": "stdout"
        }
      ]
    },
    {
      "cell_type": "code",
      "metadata": {
        "colab": {
          "base_uri": "https://localhost:8080/"
        },
        "id": "Mkdtqb1t68or",
        "outputId": "18a55fac-a66b-4256-af56-24b0f7315c79"
      },
      "source": [
        "\n",
        "userFree =[True for i in range(NO_OF_USERS)]   #keeps track of users who are free\n",
        "\n",
        "BSallowedForIteration=[True for i in range(NO_OF_BROADCAST_SERVERS)]\n",
        "BSmaxCapacity = [len(listBSs[i]) for i in range(NO_OF_BROADCAST_SERVERS)]\n",
        "BSprevcurrFilled = [0 for i in range(NO_OF_BROADCAST_SERVERS)] \n",
        "BScurrFilled =   [0 for i in range(NO_OF_BROADCAST_SERVERS)]    \n",
        "\n",
        "\n",
        "\n",
        "#stores final result\n",
        "marriage=[]   \n",
        "for i in range(NO_OF_BROADCAST_SERVERS):\n",
        "    marriage.append([])\n",
        "satisfaction_rate =[0 for i in range(NO_OF_USERS)]\n",
        "\n",
        "\n",
        "print(BSmaxCapacity )                    \n",
        "                     "
      ],
      "execution_count": null,
      "outputs": [
        {
          "output_type": "stream",
          "text": [
            "[60, 51, 36, 30, 56, 21, 38, 34, 58, 26]\n"
          ],
          "name": "stdout"
        }
      ]
    },
    {
      "cell_type": "code",
      "metadata": {
        "id": "YwAX5oAgnkVo"
      },
      "source": [
        "def proposal(user,itern):\n",
        "    if userCount[user] < NO_OF_BROADCAST_SERVERS:\n",
        "        pref_no  = userCount[user] \n",
        "        BStoPropose = listUsers[user][pref_no]\n",
        "        userCount[user] = userCount[user]+1\n",
        "        if BSallowedForIteration[BStoPropose] == True and (user) in listBSs[BStoPropose] :\n",
        "            if BScurrFilled[BStoPropose] < itern:\n",
        "                marriage[BStoPropose].append(user)\n",
        "                BScurrFilled[BStoPropose]=1+BScurrFilled[BStoPropose]\n",
        "                userFree[user]=False\n",
        "                satisfaction_rate[user] = (itern - 1)*10 + (pref_no+1)\n",
        "\n",
        "\n",
        "            else:\n",
        "                if listBSs[BStoPropose].index(marriage[BStoPropose][-1])> listBSs[BStoPropose].index(user) :\n",
        "                    abanded =  marriage[BStoPropose][-1]\n",
        "                    #abanded=abanded-1\n",
        "                    marriage[BStoPropose].pop()\n",
        "                    marriage[BStoPropose].append(user)\n",
        "                    userFree[user]=False\n",
        "                    satisfaction_rate[user] = (itern - 1)*10 + (pref_no+1)\n",
        "                    userFree[abanded]=True\n",
        "                    satisfaction_rate[abanded] = 0\n",
        "                    proposal(abanded,itern)\n",
        "                else :\n",
        "                    proposal(user,itern)\n",
        "        else:\n",
        "            userCount[user] = userCount[user]+1\n",
        "\n",
        "        "
      ],
      "execution_count": null,
      "outputs": []
    },
    {
      "cell_type": "code",
      "metadata": {
        "id": "Vpbs6QlDnmpH"
      },
      "source": [
        "userCount = [0 for i in range(NO_OF_USERS)] \n",
        "\n",
        "for i in range(max(BSmaxCapacity)):         #number of iterations required  max(BSmaxCapacity)\n",
        "    for j in range(NO_OF_USERS):\n",
        "        if userFree[j]==True :\n",
        "            proposal(j,i+1)\n",
        "\n",
        "\n",
        "    #prepare for next iteration\n",
        "    userCount = [0 for i in range(NO_OF_USERS)] \n",
        "            \n",
        "    preflistBuilderforUsers(i+1)\n",
        "    listUsers = []\n",
        "    for x in range(NO_OF_USERS):\n",
        "        listUsers.append(Users[x].preference_list)\n",
        "    for x in range(NO_OF_BROADCAST_SERVERS):\n",
        "        if BScurrFilled[x]==BSprevcurrFilled[x] or BScurrFilled[x] == BSmaxCapacity[x]  :\n",
        "            BSallowedForIteration[x] = False\n",
        "        BSprevcurrFilled[x]=BScurrFilled[x]\n",
        "\n",
        "\n",
        "    \n",
        "    \n",
        "    \n",
        "\n",
        "\n",
        "\n"
      ],
      "execution_count": null,
      "outputs": []
    },
    {
      "cell_type": "code",
      "metadata": {
        "id": "tAuB5sE4noAv",
        "colab": {
          "base_uri": "https://localhost:8080/"
        },
        "outputId": "2294b758-1150-483a-ea15-147f000a54ca"
      },
      "source": [
        "for i in range(NO_OF_BROADCAST_SERVERS):\n",
        "    print(marriage[i])\n",
        "test = set()\n",
        "assigned = 0\n",
        "for x in range(10):\n",
        "    test.update(marriage[x])\n",
        "    assigned = assigned + len(marriage[x])\n",
        "\n",
        "\n",
        "print(assigned,len(test))"
      ],
      "execution_count": null,
      "outputs": [
        {
          "output_type": "stream",
          "text": [
            "[67, 86, 33, 40, 82, 59, 53, 17, 62]\n",
            "[12, 78, 27, 71, 97, 45, 25]\n",
            "[48, 75, 9, 72, 14, 50, 55, 30, 4, 19, 54]\n",
            "[3, 66, 2, 35, 61, 52, 89]\n",
            "[21, 96, 76, 10, 79, 95, 81, 13, 60, 93, 70, 74, 58, 98, 69, 0, 37, 26]\n",
            "[5, 46, 83, 38, 6, 51, 73, 22]\n",
            "[20, 24, 31, 80, 64, 43, 77, 94, 49]\n",
            "[1, 90, 68, 88, 8, 11, 28, 44, 57, 36]\n",
            "[87, 92, 23, 65, 47, 99, 41, 84, 29]\n",
            "[34, 7, 39, 15, 42, 85, 32, 63, 56, 16, 91]\n",
            "99 99\n"
          ],
          "name": "stdout"
        }
      ]
    },
    {
      "cell_type": "code",
      "metadata": {
        "id": "i6E2p7oYnpuN",
        "colab": {
          "base_uri": "https://localhost:8080/"
        },
        "outputId": "dc6962b3-30e4-4681-de9b-f52d6ff9432b"
      },
      "source": [
        "print(satisfaction_rate)"
      ],
      "execution_count": null,
      "outputs": [
        {
          "output_type": "stream",
          "text": [
            "[151, 1, 21, 1, 81, 1, 41, 11, 42, 21, 31, 52, 1, 71, 41, 31, 92, 73, 0, 91, 1, 1, 73, 22, 12, 65, 171, 21, 62, 82, 71, 21, 61, 21, 1, 31, 92, 161, 31, 21, 31, 61, 41, 51, 72, 51, 11, 41, 1, 82, 51, 51, 51, 62, 101, 61, 82, 82, 121, 51, 81, 41, 83, 72, 41, 31, 11, 1, 22, 141, 101, 31, 31, 64, 111, 11, 21, 61, 11, 41, 31, 61, 41, 22, 71, 51, 11, 1, 31, 63, 11, 102, 11, 91, 72, 51, 11, 41, 131, 51]\n"
          ],
          "name": "stdout"
        }
      ]
    },
    {
      "cell_type": "code",
      "metadata": {
        "id": "E6dCh7vqnrPQ",
        "colab": {
          "base_uri": "https://localhost:8080/",
          "height": 279
        },
        "outputId": "c4c56ab7-14d8-46f7-8ea3-df9528a12679"
      },
      "source": [
        "import matplotlib.pyplot as plt\n",
        "import numpy as np\n",
        "data_sorted = np.sort(satisfaction_rate)\n",
        "\n",
        "\n",
        "#p = 1. * np.arange(len(data_sorted)) / (len(data_sorted) - 1)\n",
        "p=np.linspace(0, 1, len(data_sorted))\n",
        "# plot the sorted data:\n",
        "fig = plt.figure()\n",
        "plt.plot(data_sorted, p)\n",
        "plt.xticks(np.arange(min(data_sorted), max(data_sorted)+1, 20))\n",
        "plt.xlabel('satisfaction rate')\n",
        "plt.ylabel('% ')\n",
        "plt.show()"
      ],
      "execution_count": null,
      "outputs": [
        {
          "output_type": "display_data",
          "data": {
            "image/png": "[encoded data removed]",
            "text/plain": [
              "<Figure size 432x288 with 1 Axes>"
            ]
          },
          "metadata": {
            "tags": [],
            "needs_background": "light"
          }
        }
      ]
    },
    {
      "cell_type": "code",
      "metadata": {
        "id": "IxWckR7N6X73"
      },
      "source": [
        ""
      ],
      "execution_count": null,
      "outputs": []
    },
    {
      "cell_type": "markdown",
      "metadata": {
        "id": "mtToMXo4MQ6X"
      },
      "source": [
        "# Printing format"
      ]
    },
    {
      "cell_type": "markdown",
      "metadata": {
        "id": "XqpuB_iWMVXQ"
      },
      "source": [
        "marriage is the list to be used for printing and satisfaction rate is the list specifying satisfaction value"
      ]
    },
    {
      "cell_type": "code",
      "metadata": {
        "id": "Saac7p1F6X4r",
        "colab": {
          "base_uri": "https://localhost:8080/"
        },
        "outputId": "18917c87-f475-419a-e6d6-941536d6944a"
      },
      "source": [
        "for i in range(NO_OF_BROADCAST_SERVERS):\n",
        "  print(marriage[i])\n",
        "  "
      ],
      "execution_count": null,
      "outputs": [
        {
          "output_type": "stream",
          "text": [
            "[67, 86, 33, 40, 82, 59, 53, 17, 62]\n",
            "[12, 78, 27, 71, 97, 45, 25]\n",
            "[48, 75, 9, 72, 14, 50, 55, 30, 4, 19, 54]\n",
            "[3, 66, 2, 35, 61, 52, 89]\n",
            "[21, 96, 76, 10, 79, 95, 81, 13, 60, 93, 70, 74, 58, 98, 69, 0, 37, 26]\n",
            "[5, 46, 83, 38, 6, 51, 73, 22]\n",
            "[20, 24, 31, 80, 64, 43, 77, 94, 49]\n",
            "[1, 90, 68, 88, 8, 11, 28, 44, 57, 36]\n",
            "[87, 92, 23, 65, 47, 99, 41, 84, 29]\n",
            "[34, 7, 39, 15, 42, 85, 32, 63, 56, 16, 91]\n"
          ],
          "name": "stdout"
        }
      ]
    },
    {
      "cell_type": "code",
      "metadata": {
        "colab": {
          "base_uri": "https://localhost:8080/"
        },
        "id": "UxOjCiwiDoMN",
        "outputId": "45d20e35-0820-4d9a-d084-ed5c283ef70b"
      },
      "source": [
        "len(satisfaction_rate)"
      ],
      "execution_count": null,
      "outputs": [
        {
          "output_type": "execute_result",
          "data": {
            "text/plain": [
              "100"
            ]
          },
          "metadata": {
            "tags": []
          },
          "execution_count": 19
        }
      ]
    },
    {
      "cell_type": "code",
      "metadata": {
        "id": "eqKqflMKDuHY"
      },
      "source": [
        "# final_answer_dict={}\n",
        "# for i in range(n1):\n",
        "#   final_answer_dict[i+user_start]=[]\n",
        "# for i in range(n1):\n",
        "#   final_answer_dict[i+user_start].append(bitrate_calculator[i])\n",
        "#   final_answer_dict[i+user_start].append(satisfaction_rate[i])\n",
        "#   temp=index_2d(server_patner,i+user_start)\n",
        "#   final_answer_dict[i+user_start].append(temp+router_start)\n",
        "\n",
        "# from prettytable import PrettyTable as pt\n",
        "# t=pt(['User_ID','Bitrate_Received_For_Marrying','Satisafcation_Rate','Band-width_Server']) \n",
        "# for i in range(n1):\n",
        "#   list_temp=[]\n",
        "#   list_temp.append(i+user_start)\n",
        "#   list_temp.append(final_answer_dict[i+user_start][0])\n",
        "#   list_temp.append(final_answer_dict[i+user_start][1])\n",
        "#   list_temp.append(final_answer_dict[i+user_start][2])\n",
        "#   t.add_row(list_temp)\n",
        "#   list_temp.clear()\n",
        "\n",
        "# print(t)"
      ],
      "execution_count": null,
      "outputs": []
    },
    {
      "cell_type": "code",
      "metadata": {
        "colab": {
          "base_uri": "https://localhost:8080/"
        },
        "id": "CqgObM0PEAmz",
        "outputId": "dbbdaab7-db3d-43f0-8dd5-bd2da44d0e8a"
      },
      "source": [
        "marriage_dict={}\n",
        "#the dictionary will contain the user as the key and the corresponding band width server it is married to \n",
        "#will be the value\n",
        "for i in range(NO_OF_USERS):\n",
        "  marriage_dict[i]=[]\n",
        "  marriage_dict[i].append(satisfaction_rate[i])\n",
        "  flag = False\n",
        "  for j in range(NO_OF_BROADCAST_SERVERS):\n",
        "    if (i in marriage[j]):\n",
        "      marriage_dict[i].append(j)\n",
        "      flag = True\n",
        "      break\n",
        "  if (flag == False):\n",
        "    marriage_dict[i].append(\"None\")\n",
        "  \n",
        "from prettytable import PrettyTable as pt\n",
        "t=pt(['User_ID','Satisafcation_Rate','Band-width_Server']) \n",
        "for i in range(NO_OF_USERS):\n",
        "  list_temp=[]\n",
        "  list_temp.append(i)\n",
        "  list_temp.append(marriage_dict[i][0])\n",
        "  list_temp.append(marriage_dict[i][1])\n",
        "  t.add_row(list_temp)\n",
        "  list_temp.clear()\n",
        "\n",
        "print(t)\n",
        "\n"
      ],
      "execution_count": null,
      "outputs": [
        {
          "output_type": "stream",
          "text": [
            "+---------+--------------------+-------------------+\n",
            "| User_ID | Satisafcation_Rate | Band-width_Server |\n",
            "+---------+--------------------+-------------------+\n",
            "|    0    |        151         |         4         |\n",
            "|    1    |         1          |         7         |\n",
            "|    2    |         21         |         3         |\n",
            "|    3    |         1          |         3         |\n",
            "|    4    |         81         |         2         |\n",
            "|    5    |         1          |         5         |\n",
            "|    6    |         41         |         5         |\n",
            "|    7    |         11         |         9         |\n",
            "|    8    |         42         |         7         |\n",
            "|    9    |         21         |         2         |\n",
            "|    10   |         31         |         4         |\n",
            "|    11   |         52         |         7         |\n",
            "|    12   |         1          |         1         |\n",
            "|    13   |         71         |         4         |\n",
            "|    14   |         41         |         2         |\n",
            "|    15   |         31         |         9         |\n",
            "|    16   |         92         |         9         |\n",
            "|    17   |         73         |         0         |\n",
            "|    18   |         0          |        None       |\n",
            "|    19   |         91         |         2         |\n",
            "|    20   |         1          |         6         |\n",
            "|    21   |         1          |         4         |\n",
            "|    22   |         73         |         5         |\n",
            "|    23   |         22         |         8         |\n",
            "|    24   |         12         |         6         |\n",
            "|    25   |         65         |         1         |\n",
            "|    26   |        171         |         4         |\n",
            "|    27   |         21         |         1         |\n",
            "|    28   |         62         |         7         |\n",
            "|    29   |         82         |         8         |\n",
            "|    30   |         71         |         2         |\n",
            "|    31   |         21         |         6         |\n",
            "|    32   |         61         |         9         |\n",
            "|    33   |         21         |         0         |\n",
            "|    34   |         1          |         9         |\n",
            "|    35   |         31         |         3         |\n",
            "|    36   |         92         |         7         |\n",
            "|    37   |        161         |         4         |\n",
            "|    38   |         31         |         5         |\n",
            "|    39   |         21         |         9         |\n",
            "|    40   |         31         |         0         |\n",
            "|    41   |         61         |         8         |\n",
            "|    42   |         41         |         9         |\n",
            "|    43   |         51         |         6         |\n",
            "|    44   |         72         |         7         |\n",
            "|    45   |         51         |         1         |\n",
            "|    46   |         11         |         5         |\n",
            "|    47   |         41         |         8         |\n",
            "|    48   |         1          |         2         |\n",
            "|    49   |         82         |         6         |\n",
            "|    50   |         51         |         2         |\n",
            "|    51   |         51         |         5         |\n",
            "|    52   |         51         |         3         |\n",
            "|    53   |         62         |         0         |\n",
            "|    54   |        101         |         2         |\n",
            "|    55   |         61         |         2         |\n",
            "|    56   |         82         |         9         |\n",
            "|    57   |         82         |         7         |\n",
            "|    58   |        121         |         4         |\n",
            "|    59   |         51         |         0         |\n",
            "|    60   |         81         |         4         |\n",
            "|    61   |         41         |         3         |\n",
            "|    62   |         83         |         0         |\n",
            "|    63   |         72         |         9         |\n",
            "|    64   |         41         |         6         |\n",
            "|    65   |         31         |         8         |\n",
            "|    66   |         11         |         3         |\n",
            "|    67   |         1          |         0         |\n",
            "|    68   |         22         |         7         |\n",
            "|    69   |        141         |         4         |\n",
            "|    70   |        101         |         4         |\n",
            "|    71   |         31         |         1         |\n",
            "|    72   |         31         |         2         |\n",
            "|    73   |         64         |         5         |\n",
            "|    74   |        111         |         4         |\n",
            "|    75   |         11         |         2         |\n",
            "|    76   |         21         |         4         |\n",
            "|    77   |         61         |         6         |\n",
            "|    78   |         11         |         1         |\n",
            "|    79   |         41         |         4         |\n",
            "|    80   |         31         |         6         |\n",
            "|    81   |         61         |         4         |\n",
            "|    82   |         41         |         0         |\n",
            "|    83   |         22         |         5         |\n",
            "|    84   |         71         |         8         |\n",
            "|    85   |         51         |         9         |\n",
            "|    86   |         11         |         0         |\n",
            "|    87   |         1          |         8         |\n",
            "|    88   |         31         |         7         |\n",
            "|    89   |         63         |         3         |\n",
            "|    90   |         11         |         7         |\n",
            "|    91   |        102         |         9         |\n",
            "|    92   |         11         |         8         |\n",
            "|    93   |         91         |         4         |\n",
            "|    94   |         72         |         6         |\n",
            "|    95   |         51         |         4         |\n",
            "|    96   |         11         |         4         |\n",
            "|    97   |         41         |         1         |\n",
            "|    98   |        131         |         4         |\n",
            "|    99   |         51         |         8         |\n",
            "+---------+--------------------+-------------------+\n"
          ],
          "name": "stdout"
        }
      ]
    },
    {
      "cell_type": "code",
      "metadata": {
        "id": "NOdlzJoLE6no"
      },
      "source": [
        ""
      ],
      "execution_count": null,
      "outputs": []
    }
  ]
}