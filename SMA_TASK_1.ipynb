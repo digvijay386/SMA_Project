{
  "nbformat": 4,
  "nbformat_minor": 0,
  "metadata": {
    "colab": {
      "name": "SMA_TASK_1.ipynb",
      "provenance": [],
      "collapsed_sections": []
    },
    "kernelspec": {
      "name": "python3",
      "display_name": "Python 3"
    }
  },
  "cells": [
    {
      "cell_type": "code",
      "metadata": {
        "id": "ZIPu750ZQ59Q"
      },
      "source": [
        "#importing the neccesary libraries\n",
        "from math import sqrt,log2\n",
        "import numpy as np\n",
        "import random\n",
        "import collections   \n",
        "from sortedcontainers import SortedDict\n"
      ],
      "execution_count": null,
      "outputs": []
    },
    {
      "cell_type": "code",
      "metadata": {
        "id": "RpR0CBd9RHcc"
      },
      "source": [
        "#dummy initialisations\n",
        "NO_OF_USERS = 100\n",
        "NO_OF_BROADCAST_SERVERS = 10\n",
        "BW = 10 #bandwidth \n",
        "alpha = 2.5# txf\n",
        "NOISE = 0.0005\n",
        "DISTANCE_THRES = 100\n"
      ],
      "execution_count": null,
      "outputs": []
    },
    {
      "cell_type": "code",
      "metadata": {
        "id": "1ihTgDyEQ52n"
      },
      "source": [
        "#Defining User and Bandwidth-Server classes\n",
        "class User:\n",
        "    def __init__(self,uID,loc):\n",
        "        self.preference_list =[]\n",
        "        self.uID = uID\n",
        "        self.X = loc[0]\n",
        "        self.Y = loc[1]\n",
        "        self.target = None\n",
        "class BS :\n",
        "    def __init__(self,bID,loc):\n",
        "        self.preference_list = []\n",
        "        self.bID = bID\n",
        "        self.X = loc[0]\n",
        "        self.Y = loc[1]\n",
        "        self.associatedUsers = set()  \n"
      ],
      "execution_count": null,
      "outputs": []
    },
    {
      "cell_type": "code",
      "metadata": {
        "id": "HyZ_UUhfQ5z9"
      },
      "source": [
        "random.seed(1)\n",
        "x_coord = random.sample(range(1,500),NO_OF_USERS+NO_OF_BROADCAST_SERVERS)\n",
        "random.seed(2)\n",
        "y_coord = random.sample(range(1,500),NO_OF_USERS+NO_OF_BROADCAST_SERVERS)\n",
        "\n",
        "\n",
        "#the users have been id from 1 to 100\n",
        "#the BSs have been id-ed from 101 to 110\n",
        "Users = [User(i+1,(x_coord[i],y_coord[i])) for i in range(100)]\n",
        "BSs = [BS(i+100,(x_coord[i],y_coord[i])) for i in range(100,110)]\n"
      ],
      "execution_count": null,
      "outputs": []
    },
    {
      "cell_type": "code",
      "metadata": {
        "id": "rO1UKuXpQ5yi",
        "colab": {
          "base_uri": "https://localhost:8080/"
        },
        "outputId": "ef3ae793-dcdc-468b-cdad-38acaa473624"
      },
      "source": [
        "#this matrix stores the distance between all possible pairs of servers and users with shape  (10,100)\n",
        "distance_Mat =[sqrt((Users[j].X -BSs[i].X )**2 + (Users[j].Y -BSs[i].Y )**2) for i in range(0,10) for j in range (0,100)]\n",
        "distance_Mat = (np.array(distance_Mat)).reshape(10,100)\n",
        "distance_Mat[0:2][0:50]"
      ],
      "execution_count": null,
      "outputs": [
        {
          "output_type": "execute_result",
          "data": {
            "text/plain": [
              "array([[320.22492095, 192.31484602, 281.25611104, 226.10838109,\n",
              "        247.30952266, 320.48868935, 254.82543044, 229.40139494,\n",
              "        180.03610749, 196.08671551, 136.48809472, 169.54645381,\n",
              "        107.04204781, 206.73654733, 153.60013021, 211.11608181,\n",
              "        239.8853893 , 144.36758639, 353.61702448, 291.01546351,\n",
              "        154.63828763, 127.91403363, 178.05897899,  42.44997055,\n",
              "        134.27211177, 121.85236969, 322.62206992, 142.88806808,\n",
              "        197.95201439, 144.41952777, 106.78014797, 216.94699814,\n",
              "        164.47796205,  23.40939982, 254.02362095, 278.75616585,\n",
              "        258.50338489, 329.60734215, 357.19182521, 274.33191575,\n",
              "         53.15072906,  86.05230967, 281.42672226, 174.15510328,\n",
              "        220.07725916,  73.76313442, 236.90715481,  73.92563831,\n",
              "        183.19934498, 237.9936974 , 131.38112498, 289.92757716,\n",
              "        293.59325605, 100.12492197, 264.6148144 , 180.02499826,\n",
              "        161.44658559, 219.23731434, 291.2181313 ,  67.46851117,\n",
              "        193.49418596, 290.66303515, 162.36070953, 133.66001646,\n",
              "        239.50782868,  76.53757247, 281.11385594,  19.41648784,\n",
              "        148.94629905, 310.71047617, 241.35036772,  68.41052551,\n",
              "        112.80070922, 144.00347218, 287.32733946, 194.65096969,\n",
              "        175.69575977, 193.31063085, 144.03124661, 131.21356637,\n",
              "        175.48219283,  88.52683209,  66.73080248, 219.9386278 ,\n",
              "        125.00399994, 172.26142923,  20.88061302,  25.96150997,\n",
              "        191.26944346, 258.37376028, 178.24140933, 277.65085989,\n",
              "         38.91015292, 229.99347817, 159.21369288,  84.59905437,\n",
              "        139.6710421 ,  69.97142274, 293.50979541,  94.36630755],\n",
              "       [328.30625946, 124.25779654, 165.46903033, 109.59014554,\n",
              "        310.65253902, 437.73279521, 372.66204529, 335.87199943,\n",
              "        139.05394637, 252.78647116, 134.76646467, 140.90067424,\n",
              "         26.47640459, 192.93781382, 185.29975715, 327.3912033 ,\n",
              "        312.16982558, 254.04920783, 374.23254802, 333.71394936,\n",
              "         78.89233169, 160.37767924, 290.8264087 , 126.46343345,\n",
              "         32.89376841, 139.94641832, 365.56805112,  33.13608305,\n",
              "        166.6433317 , 235.91947779, 147.33974345, 148.24641648,\n",
              "        265.82701142,  98.22932352, 366.40005459, 160.56151469,\n",
              "        242.84357105, 360.55512755, 474.79785172, 377.51423814,\n",
              "        102.61578826, 192.35384062, 382.71921823, 152.00328944,\n",
              "        200.30227158,  68.46897107, 354.97887261, 151.82226451,\n",
              "        247.29132617, 248.45522735, 236.39373934, 407.60397447,\n",
              "        176.05112894, 217.86693186, 281.35742393, 278.56776554,\n",
              "        251.74590364, 210.98341167, 286.00174825,  75.13321503,\n",
              "        247.1295207 , 172.90459797, 273.70056631, 237.49105246,\n",
              "        122.88612615, 192.20041623, 166.01807131, 101.91172651,\n",
              "         61.40032573, 331.28235691, 272.36923468,  50.24937811,\n",
              "        156.38733964, 257.61987501, 313.7004941 , 255.86324472,\n",
              "        195.24855953, 171.95929751,  29.42787794, 110.86027242,\n",
              "        139.34489585, 100.019998  ,  67.91170739, 335.77373334,\n",
              "        221.77691494, 289.5185659 , 101.01980004, 131.82184948,\n",
              "        143.54441821, 223.44574285, 106.23088063, 342.00146199,\n",
              "        154.98709624, 248.56789817, 170.4699387 , 160.05624012,\n",
              "        150.88074761,  55.36244214, 302.31936756, 200.99751242]])"
            ]
          },
          "metadata": {
            "tags": []
          },
          "execution_count": 6
        }
      ]
    },
    {
      "cell_type": "code",
      "metadata": {
        "id": "rk_ovrQ3Q5vh"
      },
      "source": [
        "# #User preference list \n",
        "\n",
        "def preflistBuilderforBS():\n",
        "    for i in range(10):\n",
        "        pref_dict =  SortedDict()              #collections.OrderedDict()\n",
        "        pref_list =[] \n",
        "        for j in range(100):\n",
        "            a = distance_Mat[i][j]\n",
        "            if a<= DISTANCE_THRES:\n",
        "                pref_dict[a] = j+1\n",
        "        for key,value in pref_dict.items():\n",
        "            pref_list.append(value)\n",
        "        BSs[i].preference_list = pref_list\n",
        "        \n",
        "    \n",
        "            "
      ],
      "execution_count": null,
      "outputs": []
    },
    {
      "cell_type": "code",
      "metadata": {
        "id": "ya1cS2NV6ZE3"
      },
      "source": [
        "# def preflistBuilderforBS():\n",
        "#     for i in range(10):\n",
        "#         pref_dict =  SortedDict()                #collections.OrderedDict()\n",
        "#         pref_list =[] \n",
        "#         for j in range(100):\n",
        "#             a = distance_Mat[i][j]\n",
        "#             pref_dict[a] = j+1\n",
        "#         for key,value in pref_dict.items():\n",
        "#             pref_list.append(value)\n",
        "#         BSs[i].preference_list = pref_list\n"
      ],
      "execution_count": null,
      "outputs": []
    },
    {
      "cell_type": "code",
      "metadata": {
        "id": "yV0fa9EwQ5sK"
      },
      "source": [
        "#BS preference list\n",
        "\n",
        "\"\"\"B = BW/no of user * (1+log2(SINR))\n",
        "SINR = rx / sum of interferences + noise \"\"\"\n",
        "\n",
        "\n",
        "\n",
        "def preflistBuilderforUsers(n:int):   #n is no of users  in BS\n",
        "    rx = alpha/(distance_Mat**2)\n",
        "    interactions= np.zeros((10,100))\n",
        "    for i in range(10):\n",
        "        for j in range(100):\n",
        "            interactions[i][j] = np.sum([rx[p][j]for p in range(10) if p!=i])\n",
        "       \n",
        "    for j in range(100):\n",
        "        pref_dict =SortedDict()\n",
        "        pref_list =[] \n",
        "        for i in range(10):\n",
        "            a = (BW/n)*log2(1+ (rx[i][j]/(NOISE + interactions[i][j])))\n",
        "            pref_dict[a]=i+1\n",
        "            \n",
        "        for key,value in pref_dict.items():\n",
        "            pref_list.append(value)\n",
        "        pref_list.reverse()\n",
        "        Users[j].preference_list = pref_list\n",
        "          \n"
      ],
      "execution_count": null,
      "outputs": []
    },
    {
      "cell_type": "code",
      "metadata": {
        "id": "XdTvr1vHGbnx"
      },
      "source": [
        "# def bitrate(n:int,router:int,user:int):\n",
        "#   rx = alpha/(distance_Mat**2)\n",
        "#   interactions= np.zeros((10,100))\n",
        "#   for i in range(10):\n",
        "#       for j in range(100):\n",
        "#           interactions[i][j] = np.sum([rx[p][j]for p in range(10) if p!=i])\n",
        "#   a = (BW/n)*log2(1+ (rx[router][user]/(NOISE + interactions[router][user])))\n",
        "#   return a\n",
        "  \n",
        "    \n"
      ],
      "execution_count": null,
      "outputs": []
    },
    {
      "cell_type": "markdown",
      "metadata": {
        "id": "QdX4WPBUCsXn"
      },
      "source": [
        "# n1 is the number of users we have right now\n",
        "# n2 is the number of routers we have \n",
        "# r is the ratio n1 : n2\n"
      ]
    },
    {
      "cell_type": "code",
      "metadata": {
        "id": "G5Uw2gtcdl_2"
      },
      "source": [
        "# n1 = NO_OF_USERS\n",
        "# n2 = NO_OF_BROADCAST_SERVERS\n",
        "# r = int(n1/n2)\n",
        "\n",
        "# list1=[]\n",
        "# list2=[]\n",
        "# preflistBuilderforUsers(r)\n",
        "# preflistBuilderforBS()\n",
        "\n",
        "# for i in range(n1):\n",
        "#   list1.append(Users[i].preference_list)\n",
        "# for i in range(n2):\n",
        "#   list2.append(BSs[i].preference_list)\n",
        "\n",
        "# print(list1)\n",
        "# print(list2)\n",
        "\n",
        "# user_start=1\n",
        "# router_start=101"
      ],
      "execution_count": null,
      "outputs": []
    },
    {
      "cell_type": "code",
      "metadata": {
        "id": "GNWqy0xYcwSN"
      },
      "source": [
        "# procedure P R O P O S A L(i):\n",
        "#     if Usercounter[i] <=  len(preflist[i]) :\n",
        "#         j : = malecounter[i]\n",
        "#         malecounter[i]++\n",
        "#         //check if i is present in the list  of j and if j is allowed i.e.,space is available\n",
        "\n",
        "#             if  j is free :\n",
        "#                 filled[j]++\n",
        "#                 marriage[j] := i;\n",
        "                \n",
        "#             else :\n",
        "                \n",
        "#                 if preflistBS[j, marriage[j]] > fc[j,i] \n",
        "#                     l = marriage[j]; \n",
        "#                     marriage[j] := i;\n",
        "#                     filled[i]++\n",
        "#                     filled[l]--\n",
        "#                     PROPOSAL(l)\n",
        "#                 else \n",
        "#                     P R O P O S A L( i ) \n",
        "\n",
        "\n",
        "# shouldpropose =[] //true for all\n",
        "# seatsineachlist = []\n",
        "# filledtill = []10 bs will initially have 0]\n",
        "# for i in range(max(length of all seatsineachlist)):\n",
        "#     for j in range(10):\n",
        "#         if(shouldpropose withtrue)\n",
        "#             propose(j);\n",
        "#make all the shouldpropose false of those base stations who are full or didnot get engaged to anyone in this iteration\n",
        "\n",
        "\n",
        "#     integer j ; count : = count + 1 ;\n",
        "#     j : = malecounter[i] ; malecounter[i] : = j + 1 ;\n",
        "#     R E F U S A L ( i , malechoice[i,j])\n",
        "# p r o c e d u r e  R E F U S A L ( i : man , j :woman ) :\n",
        "\n",
        "\n",
        "\n",
        "\n",
        "\n",
        "\n",
        "\n",
        "\n",
        "\n",
        "\n",
        "\n",
        "\n",
        "\n"
      ],
      "execution_count": null,
      "outputs": []
    },
    {
      "cell_type": "code",
      "metadata": {
        "id": "bOX2_uvvcwYY",
        "colab": {
          "base_uri": "https://localhost:8080/"
        },
        "outputId": "3f4b74e4-e257-49c3-bc12-b9c4b845b4d3"
      },
      "source": [
        "listUsers=[]\n",
        "listBSs=[]\n",
        "r=NO_OF_USERS/NO_OF_BROADCAST_SERVERS\n",
        "\n",
        "preflistBuilderforUsers(r)\n",
        "preflistBuilderforBS()\n",
        "\n",
        "for i in range(NO_OF_USERS):\n",
        "  listUsers.append(Users[i].preference_list)\n",
        "for i in range(NO_OF_BROADCAST_SERVERS):\n",
        "  listBSs.append(BSs[i].preference_list)\n",
        "\n",
        "\n",
        "\n",
        "\n",
        "\n",
        "userFree =[True for i in range(NO_OF_USERS)]   #keeps track of users who are free\n",
        "userCount = [0 for i in range(NO_OF_USERS)] \n",
        "\n",
        "\n",
        "BSallowedForIteration=[True for i in range(NO_OF_BROADCAST_SERVERS)]\n",
        "BSmaxCapacity = [len(listBSs[i]) for i in range(NO_OF_BROADCAST_SERVERS)]\n",
        "BSprevcurrFilled = [0 for i in range(NO_OF_BROADCAST_SERVERS)] \n",
        "BScurrFilled =   [0 for i in range(NO_OF_BROADCAST_SERVERS)]    \n",
        "\n",
        "\n",
        "\n",
        "\n",
        "marriage=[]   \n",
        "for i in range(NO_OF_BROADCAST_SERVERS):\n",
        "    marriage.append([])\n",
        "\n",
        "\n",
        "\n",
        "satisfaction_rate =[0 for i in range(NO_OF_USERS)]\n",
        "print(BSmaxCapacity )                    \n",
        "                     \n",
        "print(listUsers)"
      ],
      "execution_count": null,
      "outputs": [
        {
          "output_type": "stream",
          "text": [
            "[18, 12, 12, 9, 16, 7, 7, 9, 19, 10]\n",
            "[[5, 8, 4, 9, 1, 2, 10, 6, 7, 3], [8, 4, 2, 5, 1, 9, 7, 3, 10, 6], [4, 8, 2, 7, 5, 1, 9, 3, 10, 6], [4, 8, 2, 7, 1, 5, 9, 3, 10, 6], [3, 1, 9, 7, 2, 6, 10, 5, 4, 8], [6, 10, 9, 3, 1, 5, 2, 7, 8, 4], [6, 10, 3, 9, 1, 5, 2, 7, 8, 4], [10, 6, 9, 5, 1, 3, 2, 8, 7, 4], [5, 8, 4, 2, 1, 9, 7, 3, 10, 6], [3, 1, 9, 7, 2, 5, 10, 6, 4, 8], [5, 9, 2, 1, 8, 4, 7, 10, 3, 6], [5, 8, 2, 4, 1, 9, 7, 10, 3, 6], [2, 1, 7, 9, 8, 4, 5, 3, 10, 6], [5, 8, 4, 2, 9, 1, 7, 10, 3, 6], [3, 1, 7, 9, 2, 5, 4, 8, 10, 6], [10, 6, 9, 1, 3, 5, 2, 7, 8, 4], [5, 10, 9, 6, 1, 2, 8, 3, 4, 7], [3, 9, 1, 10, 6, 2, 5, 7, 8, 4], [5, 8, 10, 9, 1, 4, 2, 6, 7, 3], [3, 1, 7, 9, 2, 6, 10, 5, 4, 8], [7, 2, 1, 4, 9, 8, 3, 5, 10, 6], [5, 9, 1, 2, 8, 4, 10, 7, 3, 6], [3, 9, 6, 1, 10, 5, 2, 7, 8, 4], [1, 9, 3, 2, 7, 5, 8, 4, 10, 6], [2, 7, 1, 4, 8, 9, 5, 3, 10, 6], [3, 1, 7, 9, 2, 5, 4, 8, 10, 6], [5, 10, 9, 1, 6, 8, 2, 4, 7, 3], [2, 4, 8, 7, 1, 9, 5, 3, 10, 6], [5, 8, 4, 2, 9, 1, 7, 10, 3, 6], [5, 9, 10, 1, 6, 2, 3, 8, 7, 4], [3, 1, 9, 7, 2, 5, 4, 8, 10, 6], [7, 2, 1, 4, 3, 9, 8, 5, 10, 6], [10, 9, 5, 6, 1, 3, 2, 8, 7, 4], [1, 9, 2, 5, 3, 7, 8, 4, 10, 6], [10, 6, 9, 1, 5, 3, 2, 7, 8, 4], [4, 8, 7, 2, 1, 5, 9, 3, 10, 6], [5, 8, 4, 2, 9, 1, 7, 10, 3, 6], [5, 10, 9, 8, 1, 2, 6, 4, 7, 3], [6, 10, 9, 3, 1, 5, 2, 7, 8, 4], [10, 6, 5, 9, 1, 3, 2, 8, 7, 4], [1, 9, 2, 3, 7, 5, 8, 4, 10, 6], [9, 3, 1, 2, 5, 10, 7, 6, 8, 4], [10, 6, 5, 9, 1, 3, 2, 8, 7, 4], [7, 3, 2, 1, 9, 4, 8, 5, 10, 6], [5, 8, 4, 2, 9, 1, 7, 10, 3, 6], [2, 1, 9, 7, 3, 5, 8, 4, 10, 6], [6, 10, 9, 3, 1, 5, 2, 7, 8, 4], [9, 1, 5, 2, 10, 3, 8, 7, 4, 6], [3, 1, 9, 7, 2, 5, 10, 6, 4, 8], [3, 7, 1, 2, 9, 4, 8, 5, 10, 6], [3, 9, 1, 10, 6, 2, 5, 7, 8, 4], [6, 10, 3, 9, 1, 5, 2, 7, 8, 4], [4, 7, 8, 2, 1, 9, 5, 3, 10, 6], [9, 1, 3, 10, 5, 6, 2, 7, 8, 4], [3, 7, 1, 9, 2, 4, 5, 8, 10, 6], [3, 9, 1, 6, 10, 2, 7, 5, 8, 4], [5, 10, 9, 1, 6, 2, 3, 8, 4, 7], [5, 8, 4, 2, 9, 1, 7, 10, 3, 6], [5, 8, 4, 9, 2, 1, 10, 7, 6, 3], [1, 2, 9, 7, 3, 5, 8, 4, 10, 6], [5, 9, 1, 10, 2, 8, 6, 4, 3, 7], [4, 7, 8, 2, 1, 9, 5, 3, 10, 6], [3, 9, 1, 6, 10, 5, 2, 7, 8, 4], [9, 10, 1, 5, 6, 3, 2, 8, 7, 4], [7, 4, 2, 8, 1, 9, 5, 3, 10, 6], [9, 1, 5, 3, 10, 2, 6, 7, 8, 4], [4, 8, 2, 7, 5, 1, 9, 3, 10, 6], [1, 9, 2, 5, 3, 7, 8, 4, 10, 6], [2, 8, 4, 7, 5, 1, 9, 3, 10, 6], [5, 8, 9, 10, 1, 4, 2, 6, 7, 3], [5, 9, 1, 10, 8, 2, 4, 6, 7, 3], [2, 1, 9, 7, 5, 8, 4, 3, 10, 6], [3, 1, 9, 7, 2, 5, 4, 8, 10, 6], [10, 9, 1, 6, 5, 3, 2, 7, 8, 4], [5, 9, 10, 8, 1, 2, 4, 6, 7, 3], [3, 1, 9, 7, 2, 10, 5, 6, 4, 8], [5, 9, 1, 8, 2, 4, 10, 7, 3, 6], [7, 3, 2, 1, 9, 4, 8, 5, 10, 6], [2, 7, 4, 8, 1, 9, 5, 3, 10, 6], [5, 2, 8, 1, 9, 4, 7, 3, 10, 6], [7, 2, 3, 1, 9, 4, 8, 5, 10, 6], [5, 1, 9, 2, 8, 4, 7, 3, 10, 6], [1, 2, 9, 7, 3, 5, 8, 4, 10, 6], [10, 6, 9, 1, 3, 5, 2, 7, 8, 4], [9, 5, 1, 10, 6, 2, 3, 8, 7, 4], [10, 6, 9, 1, 3, 5, 2, 7, 8, 4], [1, 9, 2, 3, 5, 7, 8, 4, 10, 6], [9, 1, 5, 2, 3, 7, 10, 8, 4, 6], [8, 5, 4, 2, 1, 9, 7, 3, 10, 6], [5, 8, 4, 2, 9, 1, 7, 10, 3, 6], [8, 4, 2, 5, 1, 7, 9, 3, 10, 6], [5, 10, 6, 9, 1, 2, 8, 4, 3, 7], [9, 1, 5, 2, 3, 10, 7, 6, 8, 4], [5, 8, 9, 1, 2, 4, 10, 7, 6, 3], [3, 7, 1, 2, 9, 4, 5, 8, 10, 6], [5, 9, 1, 2, 10, 8, 3, 7, 4, 6], [5, 9, 1, 2, 8, 4, 7, 10, 3, 6], [2, 1, 9, 7, 5, 3, 8, 4, 10, 6], [5, 8, 9, 4, 1, 2, 10, 6, 7, 3], [9, 1, 5, 10, 3, 2, 6, 7, 8, 4]]\n"
          ],
          "name": "stdout"
        }
      ]
    },
    {
      "cell_type": "code",
      "metadata": {
        "id": "zC2Br7T1dssd"
      },
      "source": [
        "def proposal(user,itern):\n",
        "    if userCount[user] < NO_OF_BROADCAST_SERVERS:\n",
        "        pref_no  = userCount[user] \n",
        "        BStoPropose = listUsers[user][pref_no]\n",
        "        BStoPropose=BStoPropose-1\n",
        "        userCount[user] = userCount[user]+1\n",
        "        #print(user+1,(user+1) in listBSs[BStoPropose])\n",
        "        if BSallowedForIteration[BStoPropose] == True and (user+1) in listBSs[BStoPropose] :\n",
        "            if BScurrFilled[BStoPropose] < itern:\n",
        "                marriage[BStoPropose].append(user+1)\n",
        "                BScurrFilled[BStoPropose]=1+BScurrFilled[BStoPropose]\n",
        "                userFree[user]=False\n",
        "                satisfaction_rate[user] = (itern - 1)*10 + (pref_no+1)\n",
        "\n",
        "\n",
        "            else:\n",
        "                if listBSs[BStoPropose].index(marriage[BStoPropose][-1])> listBSs[BStoPropose].index(user+1) :\n",
        "                    abanded =  marriage[BStoPropose][-1]\n",
        "                    abanded=abanded-1\n",
        "                    marriage[BStoPropose].pop()\n",
        "                    marriage[BStoPropose].append(user+1)\n",
        "                    userFree[user]==False\n",
        "                    satisfaction_rate[user] = (itern - 1)*10 + (pref_no+1)\n",
        "\n",
        "\n",
        "                    userFree[abanded]=True\n",
        "                    satisfaction_rate[abanded] = 0\n",
        "                    proposal(abanded,itern)\n",
        "                else :\n",
        "                    proposal(user,itern)\n",
        "        "
      ],
      "execution_count": null,
      "outputs": []
    },
    {
      "cell_type": "code",
      "metadata": {
        "id": "Tv9pBC_GHBnU"
      },
      "source": [
        "\n",
        "\n",
        "for i in range(max(BSmaxCapacity)):\n",
        "    for j in range(NO_OF_USERS):\n",
        "        if userFree[j]==True :\n",
        "            proposal(j,i+1)\n",
        "    # for x in range(NO_OF_BROADCAST_SERVERS):\n",
        "    #     print(\"Iteration \",i+1 , marriage[x])\n",
        "        \n",
        "\n",
        "    preflistBuilderforUsers(i+1)\n",
        "    listUsers = []\n",
        "    for x in range(NO_OF_USERS):\n",
        "        listUsers.append(Users[x].preference_list)\n",
        "\n",
        "\n",
        "    for x in range(NO_OF_BROADCAST_SERVERS):\n",
        "        if BScurrFilled[x]==BSprevcurrFilled[x] or BScurrFilled[x] == BSmaxCapacity[x]  :\n",
        "            BSallowedForIteration[x] = False\n",
        "        BSprevcurrFilled[x]=BScurrFilled[x]\n",
        "\n",
        "\n",
        "    \n",
        "    \n",
        "    \n",
        "\n",
        "\n",
        "\n"
      ],
      "execution_count": null,
      "outputs": []
    },
    {
      "cell_type": "code",
      "metadata": {
        "colab": {
          "base_uri": "https://localhost:8080/"
        },
        "id": "8PEa5dBXHBqA",
        "outputId": "fef225fe-8c72-45b2-f80e-8826df9f84c7"
      },
      "source": [
        "for i in range(NO_OF_BROADCAST_SERVERS):\n",
        "    print(marriage[i])"
      ],
      "execution_count": null,
      "outputs": [
        {
          "output_type": "stream",
          "text": [
            "[68, 88]\n",
            "[13]\n",
            "[49]\n",
            "[4]\n",
            "[22]\n",
            "[6, 35]\n",
            "[21]\n",
            "[2, 4]\n",
            "[88, 68]\n",
            "[35]\n"
          ],
          "name": "stdout"
        }
      ]
    },
    {
      "cell_type": "code",
      "metadata": {
        "colab": {
          "base_uri": "https://localhost:8080/"
        },
        "id": "dUL-moGYHBsE",
        "outputId": "eadd3bab-0049-45da-c257-24b619630e18"
      },
      "source": [
        "satisfaction_rate"
      ],
      "execution_count": null,
      "outputs": [
        {
          "output_type": "execute_result",
          "data": {
            "text/plain": [
              "[0,\n",
              " 1,\n",
              " 0,\n",
              " 12,\n",
              " 0,\n",
              " 1,\n",
              " 0,\n",
              " 0,\n",
              " 0,\n",
              " 0,\n",
              " 0,\n",
              " 0,\n",
              " 1,\n",
              " 0,\n",
              " 0,\n",
              " 0,\n",
              " 0,\n",
              " 0,\n",
              " 0,\n",
              " 0,\n",
              " 1,\n",
              " 1,\n",
              " 0,\n",
              " 0,\n",
              " 0,\n",
              " 0,\n",
              " 0,\n",
              " 0,\n",
              " 0,\n",
              " 0,\n",
              " 0,\n",
              " 0,\n",
              " 0,\n",
              " 0,\n",
              " 12,\n",
              " 0,\n",
              " 0,\n",
              " 0,\n",
              " 0,\n",
              " 0,\n",
              " 0,\n",
              " 0,\n",
              " 0,\n",
              " 0,\n",
              " 0,\n",
              " 0,\n",
              " 0,\n",
              " 0,\n",
              " 1,\n",
              " 0,\n",
              " 0,\n",
              " 0,\n",
              " 0,\n",
              " 0,\n",
              " 0,\n",
              " 0,\n",
              " 0,\n",
              " 0,\n",
              " 0,\n",
              " 0,\n",
              " 0,\n",
              " 0,\n",
              " 0,\n",
              " 0,\n",
              " 0,\n",
              " 0,\n",
              " 0,\n",
              " 12,\n",
              " 0,\n",
              " 0,\n",
              " 0,\n",
              " 0,\n",
              " 0,\n",
              " 0,\n",
              " 0,\n",
              " 0,\n",
              " 0,\n",
              " 0,\n",
              " 0,\n",
              " 0,\n",
              " 0,\n",
              " 0,\n",
              " 0,\n",
              " 0,\n",
              " 0,\n",
              " 0,\n",
              " 0,\n",
              " 12,\n",
              " 0,\n",
              " 0,\n",
              " 0,\n",
              " 0,\n",
              " 0,\n",
              " 0,\n",
              " 0,\n",
              " 0,\n",
              " 0,\n",
              " 0,\n",
              " 0,\n",
              " 0]"
            ]
          },
          "metadata": {
            "tags": []
          },
          "execution_count": 100
        }
      ]
    },
    {
      "cell_type": "code",
      "metadata": {
        "id": "UU6TVmZhHBkZ"
      },
      "source": [
        ""
      ],
      "execution_count": null,
      "outputs": []
    },
    {
      "cell_type": "code",
      "metadata": {
        "id": "fVveHxvmcvsI"
      },
      "source": [
        ""
      ],
      "execution_count": null,
      "outputs": []
    },
    {
      "cell_type": "markdown",
      "metadata": {
        "id": "hE6q1G6fC01j"
      },
      "source": [
        "# this following function allows a router to have r users connected with it\n",
        "# it also assumes the preferences of routers available are correct\n"
      ]
    },
    {
      "cell_type": "code",
      "metadata": {
        "id": "HJ9vdt_3CKeL"
      },
      "source": [
        "\n",
        "\n",
        "\n",
        "bitrate_calculator=[-1 for i in range(n1)]\n",
        "satisfaction_rate=[0 for i in range(n1)]\n",
        "\n",
        "\n",
        "def stable(list1 ,list2,ratio):\n",
        "  # list of patners of all routers\n",
        "  \n",
        "  #all users are free right now; i.e while initialising\n",
        "  uNotFree = [False for i in range(n1)]\n",
        "  #no of users who are still not married\n",
        "  freeCount=n1\n",
        "\n",
        "  rPatner=[]\n",
        "  for i in range(n2):\n",
        "    rPatner.append([])\n",
        "\n",
        "  temp=1\n",
        "  while (freeCount > 0):\n",
        "    #this loop finds a user who is free\n",
        "    u = 0\n",
        "    while (u < n1):\n",
        "      if (uNotFree[u]==False):\n",
        "        break\n",
        "      u+=1\n",
        "    i = 0\n",
        "    #this loop checks for each and every router in the list of user 'u'\n",
        "    u+=user_start\n",
        "    while i < n2 and uNotFree[u-user_start]==False:\n",
        "      r = list1[u-user_start][i]\n",
        "    \n",
        "      if (len(rPatner[r-router_start]) < ratio):\n",
        "        if (u in rPatner[r-router_start]):\n",
        "          break\n",
        "        else :\n",
        "          rPatner[r-router_start].append(u)\n",
        "          uNotFree[u-user_start]=True\n",
        "          # satisfaction_rate[u-user_start]=(temp)*10+list1[u-user_start].index(r)\n",
        "          freeCount-=1\n",
        "          preflistBuilderforUsers(len(rPatner[r-router_start]))\n",
        "          bitrate_calculator[u-user_start]=bitrate(len(rPatner[r-router_start]),r-router_start,u-user_start)\n",
        "        # here you need to update the preference list of the users \n",
        "        # and hence dyanamically do it\n",
        "      else :\n",
        "        # find if there exists some patner whose priority is lesser than 'u'\n",
        "        index_of_router=r-router_start\n",
        "        index_u = list2[index_of_router].index(u)\n",
        "        for x in range(ratio):\n",
        "          curr = rPatner[index_of_router][x]\n",
        "          index_of_curr_in_preferences = list2[index_of_router].index(curr)\n",
        "          if (index_of_curr_in_preferences > index_u):\n",
        "            uNotFree[curr-user_start]=False\n",
        "            bitrate_calculator[curr-user_start]=-1\n",
        "            satisfaction_rate[curr-user_start]=0\n",
        "            rPatner[index_of_router][x]=u\n",
        "            uNotFree[u-user_start]=True\n",
        "            # satisfaction_rate[u-user_start]=(temp)*10+list1[u-user_start].index(r)\n",
        "            bitrate_calculator[u-user_start]=bitrate(len(rPatner[r-router_start]),r-router_start,u-user_start);\n",
        "            break\n",
        "\n",
        "          \n",
        "         \n",
        "      i+=1\n",
        "    satisfaction_rate[u-user_start]=(temp)*10+list1[u-user_start].index(r)\n",
        "    #print(\"Satisfaction rate : \", temp , \" \",list1[u-user_start].index(r))\n",
        "    temp+=1\n",
        "\n",
        "\n",
        "  return rPatner          \n",
        "\n",
        "\n",
        "      \n",
        "  "
      ],
      "execution_count": null,
      "outputs": []
    },
    {
      "cell_type": "code",
      "metadata": {
        "id": "AjX1ewjGbbDJ"
      },
      "source": [
        "def stable_marriage(list1,list2,ratio):\n",
        "  #list1 contains the preference of users\n",
        "  #list2 contains the preference of servers\n",
        "  server_Patner=[]\n",
        "  for i in range(n2):\n",
        "    server_Patner.append([])\n",
        "  user_free=[True for i in range(n1)]\n",
        "  free_count=n1\n",
        "  iteration_number=1\n",
        "  while (free_count > 0):\n",
        "    user__=0\n",
        "    for i in range(n1):\n",
        "      if (user_free[user__]==True):\n",
        "        break\n",
        "      user__+=1\n",
        "    \n",
        "    user_name=user__+user_start\n",
        "    i=0\n",
        "    while i < n2 and user_free[user__]==True:\n",
        "        r = list1[user__][i]\n",
        "\n",
        "        #no of users which can be married to a server at a given time\n",
        "        #for the first iteration itll be 1, after that 2 and so on\n",
        "        if (len(server_Patner[r-router_start]) < min(iteration_number,ratio) ):\n",
        "          if (user_name in server_Patner[r-router_start]):\n",
        "            break\n",
        "          else :\n",
        "            server_Patner[r-router_start].append(user_name)\n",
        "            user_free[user__]=False\n",
        "            free_count-=1\n",
        "        else :\n",
        "          # find if there exists some patner whose priority is lesser than 'u'\n",
        "          index_of_router=r-router_start\n",
        "          index_u = list2[index_of_router].index(user_name)\n",
        "          for x in range(len(server_Patner[r-router_start])):\n",
        "            curr = server_Patner[index_of_router][x]\n",
        "            index_of_curr_in_preferences = list2[index_of_router].index(curr)\n",
        "            if (index_of_curr_in_preferences > index_u):\n",
        "              user_free[curr-user_start]=True\n",
        "              server_Patner[index_of_router][x]=user_name\n",
        "              user_free[user__]=False\n",
        "              break\n",
        "        i+=1\n",
        "    iteration_number+=1        \n",
        "    \n",
        "\n",
        "\n",
        "  return server_Patner\n",
        "\n"
      ],
      "execution_count": null,
      "outputs": []
    },
    {
      "cell_type": "code",
      "metadata": {
        "id": "CQJgSQXkGPKI"
      },
      "source": [
        "\n",
        "\n",
        "\n"
      ],
      "execution_count": null,
      "outputs": []
    },
    {
      "cell_type": "code",
      "metadata": {
        "id": "fVETY4Htt2HH",
        "colab": {
          "base_uri": "https://localhost:8080/",
          "height": 298
        },
        "outputId": "0cfe36ba-11d6-48bd-e4ff-f60805a5bf9f"
      },
      "source": [
        "answer=stable(list1,list2,r)"
      ],
      "execution_count": null,
      "outputs": [
        {
          "output_type": "error",
          "ename": "IndexError",
          "evalue": "ignored",
          "traceback": [
            "\u001b[0;31m---------------------------------------------------------------------------\u001b[0m",
            "\u001b[0;31mIndexError\u001b[0m                                Traceback (most recent call last)",
            "\u001b[0;32m<ipython-input-36-7c73220f313e>\u001b[0m in \u001b[0;36m<module>\u001b[0;34m()\u001b[0m\n\u001b[0;32m----> 1\u001b[0;31m \u001b[0manswer\u001b[0m\u001b[0;34m=\u001b[0m\u001b[0mstable\u001b[0m\u001b[0;34m(\u001b[0m\u001b[0mlist1\u001b[0m\u001b[0;34m,\u001b[0m\u001b[0mlist2\u001b[0m\u001b[0;34m,\u001b[0m\u001b[0mr\u001b[0m\u001b[0;34m)\u001b[0m\u001b[0;34m\u001b[0m\u001b[0;34m\u001b[0m\u001b[0m\n\u001b[0m",
            "\u001b[0;32m<ipython-input-35-48ce0da16c98>\u001b[0m in \u001b[0;36mstable\u001b[0;34m(list1, list2, ratio)\u001b[0m\n\u001b[1;32m     32\u001b[0m       \u001b[0mr\u001b[0m \u001b[0;34m=\u001b[0m \u001b[0mlist1\u001b[0m\u001b[0;34m[\u001b[0m\u001b[0mu\u001b[0m\u001b[0;34m-\u001b[0m\u001b[0muser_start\u001b[0m\u001b[0;34m]\u001b[0m\u001b[0;34m[\u001b[0m\u001b[0mi\u001b[0m\u001b[0;34m]\u001b[0m\u001b[0;34m\u001b[0m\u001b[0;34m\u001b[0m\u001b[0m\n\u001b[1;32m     33\u001b[0m \u001b[0;34m\u001b[0m\u001b[0m\n\u001b[0;32m---> 34\u001b[0;31m       \u001b[0;32mif\u001b[0m \u001b[0;34m(\u001b[0m\u001b[0mlen\u001b[0m\u001b[0;34m(\u001b[0m\u001b[0mrPatner\u001b[0m\u001b[0;34m[\u001b[0m\u001b[0mr\u001b[0m\u001b[0;34m-\u001b[0m\u001b[0mrouter_start\u001b[0m\u001b[0;34m]\u001b[0m\u001b[0;34m)\u001b[0m \u001b[0;34m<\u001b[0m \u001b[0mratio\u001b[0m\u001b[0;34m)\u001b[0m\u001b[0;34m:\u001b[0m\u001b[0;34m\u001b[0m\u001b[0;34m\u001b[0m\u001b[0m\n\u001b[0m\u001b[1;32m     35\u001b[0m         \u001b[0;32mif\u001b[0m \u001b[0;34m(\u001b[0m\u001b[0mu\u001b[0m \u001b[0;32min\u001b[0m \u001b[0mrPatner\u001b[0m\u001b[0;34m[\u001b[0m\u001b[0mr\u001b[0m\u001b[0;34m-\u001b[0m\u001b[0mrouter_start\u001b[0m\u001b[0;34m]\u001b[0m\u001b[0;34m)\u001b[0m\u001b[0;34m:\u001b[0m\u001b[0;34m\u001b[0m\u001b[0;34m\u001b[0m\u001b[0m\n\u001b[1;32m     36\u001b[0m           \u001b[0;32mbreak\u001b[0m\u001b[0;34m\u001b[0m\u001b[0;34m\u001b[0m\u001b[0m\n",
            "\u001b[0;31mIndexError\u001b[0m: list index out of range"
          ]
        }
      ]
    },
    {
      "cell_type": "code",
      "metadata": {
        "id": "dfDX3GFIJC0S",
        "colab": {
          "base_uri": "https://localhost:8080/"
        },
        "outputId": "f57b0719-902d-4399-f53f-e61fcf925031"
      },
      "source": [
        "answer"
      ],
      "execution_count": null,
      "outputs": [
        {
          "output_type": "execute_result",
          "data": {
            "text/plain": [
              "[[87, 34, 24, 41, 60, 68, 26, 83, 63, 71],\n",
              " [13, 25, 28, 46, 69, 72, 79, 75, 98, 38],\n",
              " [76, 10, 73, 15, 51, 56, 18, 31, 49, 5],\n",
              " [3, 4, 36, 53, 62, 67, 99, 70, 1, 59],\n",
              " [97, 77, 11, 80, 96, 82, 12, 22, 14, 61],\n",
              " [6, 7, 39, 47, 52, 27, 17, 92, 23, 19],\n",
              " [21, 32, 44, 55, 50, 65, 78, 81, 20, 95],\n",
              " [2, 91, 89, 29, 90, 58, 37, 45, 9, 94],\n",
              " [88, 93, 48, 100, 42, 66, 54, 85, 64, 30],\n",
              " [8, 84, 16, 35, 86, 33, 40, 43, 74, 57]]"
            ]
          },
          "metadata": {
            "tags": []
          },
          "execution_count": 70
        }
      ]
    },
    {
      "cell_type": "code",
      "metadata": {
        "id": "h3CjILkwx9XW"
      },
      "source": [
        "satisfaction_rate"
      ],
      "execution_count": null,
      "outputs": []
    },
    {
      "cell_type": "code",
      "metadata": {
        "id": "mzcesNbY3K4U"
      },
      "source": [
        "bitrate_calculator"
      ],
      "execution_count": null,
      "outputs": []
    },
    {
      "cell_type": "code",
      "metadata": {
        "id": "6mKdRWO0I39m"
      },
      "source": [
        "def index_2d(myList, v):\n",
        "    for i, x in enumerate(myList):\n",
        "        if v in x:\n",
        "            return (i, x.index(v))"
      ],
      "execution_count": null,
      "outputs": []
    },
    {
      "cell_type": "code",
      "metadata": {
        "id": "hdLeWw1bICnP"
      },
      "source": [
        "final_answer_dict={}\n",
        "for i in range(n1):\n",
        "  final_answer_dict[i+user_start]=[]\n",
        "for i in range(n1):\n",
        "  final_answer_dict[i+user_start].append(bitrate_calculator[i])\n",
        "  final_answer_dict[i+user_start].append(satisfaction_rate[i])\n",
        "  r=index_2d(answer,i+user_start)\n",
        "  final_answer_dict[i+user_start].append(r[0]+router_start)"
      ],
      "execution_count": null,
      "outputs": []
    },
    {
      "cell_type": "code",
      "metadata": {
        "id": "ellJsTd6JMcV"
      },
      "source": [
        "final_answer_dict"
      ],
      "execution_count": null,
      "outputs": []
    },
    {
      "cell_type": "code",
      "metadata": {
        "id": "AvlRvp9SJtZL"
      },
      "source": [
        "from prettytable import PrettyTable as pt"
      ],
      "execution_count": null,
      "outputs": []
    },
    {
      "cell_type": "code",
      "metadata": {
        "id": "E3JLynVmKJAd"
      },
      "source": [
        "t=pt(['User_ID','Bitrate_Received_For_Marrying','Satisafcation_Rate','Band-width_Server']) "
      ],
      "execution_count": null,
      "outputs": []
    },
    {
      "cell_type": "code",
      "metadata": {
        "id": "Gdve01o7Ksyh"
      },
      "source": [
        "for i in range(n1):\n",
        "  list_temp=[]\n",
        "  list_temp.append(i+user_start)\n",
        "  list_temp.append(final_answer_dict[i+user_start][0])\n",
        "  list_temp.append(final_answer_dict[i+user_start][1])\n",
        "  list_temp.append(final_answer_dict[i+user_start][2])\n",
        "  t.add_row(list_temp)\n",
        "  list_temp.clear()"
      ],
      "execution_count": null,
      "outputs": []
    },
    {
      "cell_type": "code",
      "metadata": {
        "id": "DixmxClRLMPm",
        "colab": {
          "base_uri": "https://localhost:8080/"
        },
        "outputId": "c10c25d6-6b94-4de7-a876-7ce739f43555"
      },
      "source": [
        "t"
      ],
      "execution_count": null,
      "outputs": [
        {
          "output_type": "execute_result",
          "data": {
            "text/plain": [
              "<prettytable.PrettyTable at 0x7f28f9fb9b38>"
            ]
          },
          "metadata": {
            "tags": []
          },
          "execution_count": 66
        }
      ]
    },
    {
      "cell_type": "code",
      "metadata": {
        "id": "v1hE7OjSLo46",
        "colab": {
          "base_uri": "https://localhost:8080/"
        },
        "outputId": "a26f7471-fc66-4be0-a7cb-4a3ad5763996"
      },
      "source": [
        "print(t)"
      ],
      "execution_count": null,
      "outputs": [
        {
          "output_type": "stream",
          "text": [
            "+---------+-------------------------------+--------------------+-------------------+\n",
            "| User_ID | Bitrate_Received_For_Marrying | Satisafcation_Rate | Band-width_Server |\n",
            "+---------+-------------------------------+--------------------+-------------------+\n",
            "|    1    |      0.05472085048464461      |        2102        |        1004       |\n",
            "|    2    |       7.1494653974286315      |         20         |        1008       |\n",
            "|    3    |       7.154874550909796       |         30         |        1004       |\n",
            "|    4    |       4.5461429623057725      |         40         |        1004       |\n",
            "|    5    |       0.4573802897111907      |        1180        |        1003       |\n",
            "|    6    |       14.91391488990507       |         60         |        1006       |\n",
            "|    7    |       2.0254540500853495      |         70         |        1006       |\n",
            "|    8    |       21.885062136602098      |         80         |        1010       |\n",
            "|    9    |      0.31056618189147867      |        1401        |        1008       |\n",
            "|    10   |       5.558327760603806       |        100         |        1003       |\n",
            "|    11   |       3.5178851955743893      |        110         |        1005       |\n",
            "|    12   |      0.44095917139172197      |        2160        |        1005       |\n",
            "|    13   |       16.88756102917492       |        130         |        1002       |\n",
            "|    14   |       0.4986111090557126      |        2170        |        1005       |\n",
            "|    15   |       0.5661735463941255      |        1140        |        1003       |\n",
            "|    16   |       0.6549029949358464      |        1430        |        1010       |\n",
            "|    17   |      0.10825590709864417      |        1693        |        1006       |\n",
            "|    18   |      0.34032483301639643      |        1170        |        1003       |\n",
            "|    19   |      0.03211662561499514      |        2357        |        1006       |\n",
            "|    20   |      0.05852006934895803      |        2002        |        1007       |\n",
            "|    21   |       19.291013675675078      |        210         |        1007       |\n",
            "|    22   |       4.720834204534304       |        220         |        1005       |\n",
            "|    23   |       0.1218629955641801      |        1922        |        1006       |\n",
            "|    24   |       0.7777419593416983      |        1570        |        1001       |\n",
            "|    25   |       5.671021735492074       |        250         |        1002       |\n",
            "|    26   |       0.248161970956846       |        1191        |        1001       |\n",
            "|    27   |      0.07460990281248155      |        1604        |        1006       |\n",
            "|    28   |       4.149449086444207       |        280         |        1002       |\n",
            "|    29   |      0.21020851471778174      |        1941        |        1008       |\n",
            "|    30   |      0.18181738669434327      |        2311        |        1009       |\n",
            "|    31   |       0.4755669054527244      |        330         |        1003       |\n",
            "|    32   |       3.8914719128784836      |        340         |        1007       |\n",
            "|    33   |       0.3492325932458905      |        1520        |        1010       |\n",
            "|    34   |       7.3700878991417715      |        360         |        1001       |\n",
            "|    35   |       5.384873866393619       |        370         |        1010       |\n",
            "|    36   |       1.4480574474244088      |        380         |        1004       |\n",
            "|    37   |      0.12058785257365452      |        2201        |        1008       |\n",
            "|    38   |      0.03759682398054638      |        2345        |        1002       |\n",
            "|    39   |       2.147974858474029       |        440         |        1006       |\n",
            "|    40   |       1.5031600011817277      |        450         |        1010       |\n",
            "|    41   |       0.5960041588834337      |        1580        |        1001       |\n",
            "|    42   |       0.3069755546538328      |        2270        |        1009       |\n",
            "|    43   |       0.9971861362606547      |        480         |        1010       |\n",
            "|    44   |       1.0878476019978751      |        490         |        1007       |\n",
            "|    45   |       0.1842468549183707      |        1331        |        1008       |\n",
            "|    46   |       0.9257339780889945      |        550         |        1002       |\n",
            "|    47   |       1.6037175278355824      |        560         |        1006       |\n",
            "|    48   |       0.4713424199182208      |        1850        |        1009       |\n",
            "|    49   |       2.0001547709591123      |        580         |        1003       |\n",
            "|    50   |      0.21023828251446064      |        711         |        1007       |\n",
            "|    51   |       0.5039913816776516      |        1150        |        1003       |\n",
            "|    52   |       0.8056362284349893      |        630         |        1006       |\n",
            "|    53   |       0.6460003718846403      |        640         |        1004       |\n",
            "|    54   |       0.3408139489722004      |        2280        |        1009       |\n",
            "|    55   |      0.20773828676831724      |        661         |        1007       |\n",
            "|    56   |       0.5872517037675224      |        1160        |        1003       |\n",
            "|    57   |      0.20603423105880306      |        871         |        1010       |\n",
            "|    58   |      0.11083456587596334      |        2191        |        1008       |\n",
            "|    59   |      0.06358754063048758      |        2222        |        1004       |\n",
            "|    60   |       0.7599516985853796      |        810         |        1001       |\n",
            "|    61   |       0.5197062321179726      |        2180        |        1005       |\n",
            "|    62   |       0.5528266568508481      |        880         |        1004       |\n",
            "|    63   |      0.12256460888036795      |        2322        |        1001       |\n",
            "|    64   |      0.21593688224178803      |        2300        |        1009       |\n",
            "|    65   |       0.5111808218825549      |        920         |        1007       |\n",
            "|    66   |       1.014231282032202       |        930         |        1009       |\n",
            "|    67   |       1.2847427310767336      |        940         |        1004       |\n",
            "|    68   |       2.5505116136118695      |        950         |        1001       |\n",
            "|    69   |       0.9039914582026257      |        960         |        1002       |\n",
            "|    70   |      0.05479135473933748      |        1825        |        1004       |\n",
            "|    71   |      0.06233559788087842      |        1552        |        1001       |\n",
            "|    72   |       0.9804548372747102      |        1000        |        1002       |\n",
            "|    73   |       0.4796822160275242      |        1130        |        1003       |\n",
            "|    74   |      0.28755324582827085      |        1530        |        1010       |\n",
            "|    75   |      0.04446681828413354      |        2335        |        1002       |\n",
            "|    76   |       1.2712145909523227      |        1120        |        1003       |\n",
            "|    77   |       1.6281638803140537      |        2120        |        1005       |\n",
            "|    78   |       0.3918937279905562      |        1270        |        1007       |\n",
            "|    79   |       2.083810958906407       |        1280        |        1002       |\n",
            "|    80   |       0.4649648404024966      |        2130        |        1005       |\n",
            "|    81   |       0.5960251846309053      |        1340        |        1007       |\n",
            "|    82   |      0.35458276727096205      |        2150        |        1005       |\n",
            "|    83   |      0.45922332346342576      |        1410        |        1001       |\n",
            "|    84   |       0.7673742107935888      |        1420        |        1010       |\n",
            "|    85   |      0.24286703032982315      |        2290        |        1009       |\n",
            "|    86   |      0.35518266715437563      |        1510        |        1010       |\n",
            "|    87   |       1.6397964611006002      |        1560        |        1001       |\n",
            "|    88   |       2.1788858891062595      |        1610        |        1009       |\n",
            "|    89   |       0.3520004531715295      |        1770        |        1008       |\n",
            "|    90   |       0.1857011430212303      |        1951        |        1008       |\n",
            "|    91   |       0.6553647366518947      |        1760        |        1008       |\n",
            "|    92   |      0.08362361253142217      |        1832        |        1006       |\n",
            "|    93   |       1.7364247050330135      |        1840        |        1009       |\n",
            "|    94   |      0.06737363264201603      |        2211        |        1008       |\n",
            "|    95   |      0.15941481930030424      |        2011        |        1007       |\n",
            "|    96   |       0.3746589190729586      |        2140        |        1005       |\n",
            "|    97   |       2.1631414463116805      |        2110        |        1005       |\n",
            "|    98   |       0.570807486990645       |        2230        |        1002       |\n",
            "|    99   |      0.05262484679382953      |        2243        |        1004       |\n",
            "|   100   |       0.4263981369254531      |        2260        |        1009       |\n",
            "+---------+-------------------------------+--------------------+-------------------+\n"
          ],
          "name": "stdout"
        }
      ]
    },
    {
      "cell_type": "code",
      "metadata": {
        "id": "_MlQ6homLrT_"
      },
      "source": [
        "def stable_2(list1,list2,start_user,server_patner):\n",
        "  \n",
        "\n",
        "  server_free=[True for i in range(n2)]\n",
        "  \n",
        "  \n",
        "  for user__ in range(n1):\n",
        "    i=0\n",
        "    user_index_in_list2=user__+start_user\n",
        "    while (i < n2 and user_free[user__]):\n",
        "      server=list1[user_index_in_list2][i]\n",
        "      server_index=server-router_start\n",
        "\n",
        "      if (server_free[server_index]):\n",
        "        server_patner[server_index].append(user__+start_user+user_start)\n",
        "        user_free[user__]=False\n",
        "        server_free[server_index]=False\n",
        "        #free_count-=1\n",
        "      else:\n",
        "        s=len(server_patner[server_index])\n",
        "        curr_patner=server_patner[server_index][s-1]\n",
        "\n",
        "        index_curr=list2[server_index].index(curr_patner)\n",
        "        index_user=list2[server_index].index(user__+start_user+user_start)\n",
        "\n",
        "        if (index_user < index_curr):\n",
        "          server_patner[server_index][s-1]=user__+start_user+user_start\n",
        "          user_free[user__]=False\n",
        "          user_free[curr_patner-user_start-start_user]=True\n",
        "      i+=1\n",
        "    \n",
        "\n",
        "\n",
        "      \n",
        "  \n"
      ],
      "execution_count": null,
      "outputs": []
    },
    {
      "cell_type": "code",
      "metadata": {
        "id": "6Z_uynoFVqSl"
      },
      "source": [
        "def stable_marriage(list1,list2,ratio):\n",
        "  server_patner=[]\n",
        "  for i in range(n2):\n",
        "    server_patner.append([])\n",
        "\n",
        "  for i in range(ratio):\n",
        "    initial=0\n",
        "\n",
        "    stable_2(list1,list2,initial,server_patner)\n",
        "\n",
        "  return server_patner\n",
        "\n",
        "\n",
        "\n",
        "    \n",
        "\n"
      ],
      "execution_count": null,
      "outputs": []
    },
    {
      "cell_type": "code",
      "metadata": {
        "id": "qLMVNL7VDI_o"
      },
      "source": [
        "user_free=[True for i in range(n1)]\n",
        "free_count=n1\n"
      ],
      "execution_count": null,
      "outputs": []
    }
  ]
}